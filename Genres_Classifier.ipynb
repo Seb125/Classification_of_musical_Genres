{
 "cells": [
  {
   "cell_type": "markdown",
   "metadata": {
    "colab_type": "text",
    "id": "view-in-github"
   },
   "source": [
    "<a href=\"https://colab.research.google.com/github/Seb125/MFCC_Genres/blob/main/Genres.ipynb\" target=\"_parent\"><img src=\"https://colab.research.google.com/assets/colab-badge.svg\" alt=\"Open In Colab\"/></a>"
   ]
  },
  {
   "cell_type": "markdown",
   "metadata": {},
   "source": [
    "# Multiclass classification with kernalized SVM and MLP"
   ]
  },
  {
   "cell_type": "markdown",
   "metadata": {},
   "source": [
    "## Music genre classification using mfcc's\n",
    "\n",
    "In this notebook I want to classify music from 10 different genres. The input data is the GTZAN Dataset (https://www.kaggle.com/datasets/andradaolteanu/gtzan-dataset-music-genre-classification), which contains 100 30s exerpts for 10 diffenrent genres. For each exerpt mfcc vectors are calculated, which are used as input data for the machine learning algorithms. \n",
    "\n",
    "The mapping of the labels:\n",
    "       0: \"hiphop\",\n",
    "       1: \"blues\",\n",
    "       2: \"rock\",\n",
    "       3: \"jazz\",\n",
    "       4: \"disco\",\n",
    "       5: \"metal\",\n",
    "       6:\"classical\",\n",
    "       7: \"pop\",\n",
    "       8: \"country\",\n",
    "       9: \"reggae\""
   ]
  },
  {
   "cell_type": "markdown",
   "metadata": {},
   "source": [
    "## Theory on Kernel methods (https://bloom.bg/2ui2T4q)"
   ]
  },
  {
   "cell_type": "markdown",
   "metadata": {},
   "source": [
    "### Motivation\n",
    "\n",
    "Mapping from an input space $\\chi$ to a vector in $R^d$ is called feature extraction.  \n",
    "Feature mapping is a function of the form $\\psi: \\chi -> R^d$.  \n",
    "To get expressive hypothesis spaces using linear models we need high-dimensional feature spaces. Suppose we start with $x= (1, x_1, ..., x_d) \\in R^{d+1} = \\chi$. Now with our feature mapping $\\psi(x)$ we want all monomials of degree M. Then we will end up with the number of features of $O(d^M)$?. Thus we will get extremely large matrices. Having large feature spaces have two problems, Overfitting (handled by regularization) and memory, computational cost. Kernel methods can (sometimes) help with memory and computational costs.\n",
    "\n",
    "\n",
    "###### Definition\n",
    "\n",
    "A method can be kernalized if inputs appear inside inner products: $\\langle  \\; \\psi(x), \\psi(x') \\; \\rangle$ for $x, x' \\in \\chi$.  \n",
    "The kernel function corresponding to such an inner product is:  \n",
    "\n",
    "$k(x,x') = \\langle  \\; \\psi(x), \\psi(x') \\; \\rangle$.  \n",
    "\n",
    "Kernels as similarity scores: It is often useful to think of the kernel function as a similarity score. The final classifier is a similarity-weighted vote (see section... for details). However this is not a mathematically precise statement.\n",
    "\n",
    "\n",
    "\n",
    "###### Different Kernels\n",
    "\n",
    "###### Linear Kernel\n",
    "\n",
    "Feature map: $\\phi(x)  = x$  \n",
    "Kernel: $k(x, x') = x^Tx'$\n",
    "\n",
    "A linear kernel uses just the original input features. The output of the linear kernel function just gives the standard dot product between two data points $x^Tx'$. As x and x' lie in the original input space,w e don't get acces to a higher dimensional feature space by using a lienar kernel. We are using the original feature space and the kernel function does not has any computational benefits. So if our input vector already lie in high dimensional feature space, such that the data is already seperable with a linear method, I won't get any benefit form using kernel methods.(?)\n",
    "\n",
    "###### Quadratic Kernel\n",
    "\n",
    "Input space $\\chi = R^d$  \n",
    "Feature space: $H = R^D$, where $D = d + \\binom{d}{2} \\approx \\frac{d^2}{2}$.\n",
    "\n",
    "Feature map: \n",
    "\n",
    "$\\psi(x) = (x_1,...,x_d,x^2_1,...x^2_d,\\sqrt{2}x_1x_2,...,\\sqrt{2}x_{d-1}x_d)^T$\n",
    "\n",
    "Then for $\\forall x, x' \\in R^d$\n",
    "\n",
    "$k(x,x') = \\langle  \\; \\psi(x), \\psi(x') \\; \\rangle = \\langle  \\; x, x' \\; \\rangle + \\langle  \\; x, x' \\; \\rangle ^2$\n",
    "\n",
    "Computation for inner product with explicit mapping: $O(d^2)$  \n",
    "Computation for implicit kernel calculation: $O(d)$.\n",
    "\n",
    "Thus with the qudratic kernel function we can evaluate a dot product of feature space that includes all monomials up to degree 2 of the original input space, while computation cost is in the same order as for the original feature space. Notice that we have these extra coefficients ($\\sqrt{2}$) in front of our features. These interact with our regularization. We can use smaller coefficients $w$ to get the same output, such that with regularization these features get favored by the model.\n",
    "\n",
    "###### Polynomial Kernel\n",
    "\n",
    "Input space $\\chi = R^d$  \n",
    "Kernel function:  \n",
    "\n",
    "$k(x,x') = (1 + \\langle  \\; x, x' \\; \\rangle)^M$\n",
    "    \n",
    "Corresponds to a feature map with all monomials up to degree M.  \n",
    "For any M, computing the kernel has same computationsl cost.  \n",
    "Cost of explicit inner product computation grows rapidly in M. \n",
    "\n",
    "###### RBF/Gaussian Kernel\n",
    "\n",
    "Input space $\\chi = R^d$   \n",
    "Kernel function:  \n",
    "\n",
    "$k(x,x') = exp(-\\frac{||x-x'||^2}{2\\sigma^2})$ \n",
    "\n",
    "where $\\sigma^2$ is known as the bandwith parameter. \n",
    "\n",
    "Does it act like a similarity score?:\n",
    "For $x=x'$ the kernel evaluates to 1 and for increasing distance between x and x' the value of the functions gets closer to 0.  \n",
    "Why \"radial\"?: The output is independent of orientation. All x's in the same radius of x get the same similarity score.  \n",
    "For the RBF kernel we have in some sense departed form our \"inner product of feature vector\" recipe. The RBF kernel corresponds to an infinite dimensional feature vector ($\\psi(x)$ has infinite number of dimensions). \n",
    "It is probably the most common nonlinear kernel. \n",
    "How does the kernel function behave if we change $\\sigma^2$?:....see UCSD lecture slides!\n",
    "\n",
    "###### The Kernel trick\n",
    "\n",
    "We can transform certain objektive functions into a kernalized version (see details below). This kernalized objective function contains the kernel matrix.\n",
    "\n",
    "For points $x_1,...,x_n \\in \\chi$ and an inner product $\\langle  \\; .,. \\; \\rangle$ on $\\chi$, the kernel matrix is defined as:  \n",
    "\n",
    "$K = (\\langle  \\; x_i, x_j \\; \\rangle)_{ij} = \\left(\\begin{array}{rrr} \n",
    "\\langle  \\; x_1, x_1 \\; \\rangle & ... & \\langle  \\; x_1, x_n \\; \\rangle \\\\ \n",
    "... & ... & ... \\\\ \n",
    "\\langle  \\; x_n, x_1 \\; \\rangle & ... & \\langle  \\; x_n, x_n \\; \\rangle \\\\ \n",
    "\\end{array}\\right) = XX^T$  \n",
    "\n",
    "which is an $nxn$ matrix. \n",
    "\n",
    "Given a kernalized ML algorithm, we can swap out the kernel function. The new kernel may correspond to a high dimensional feature space. Once the kernel matrix is computed , the computational cost depends only on the number of data points, rather than the dimesnion of the feature space. \n",
    "\n",
    "In ridge regression we deel with a matrix $X^TX$ which is $dxd$. In general you would prefer to work with the smaller matrix. Thus kernel methods are prefered when $n<<d$.\n",
    "\n",
    "Swapping out a linear kernel for a new kernel is called the kernel trick.\n",
    "\n",
    "\n",
    "### How to kernalize an objective function\n",
    "\n",
    "#### Generalized objective function\n",
    "\n",
    "Featurized SVM objective:\n",
    "\n",
    "$min_{w\\in R^d} \\frac{1}{2} ||w||^2 + \\frac{c}{n} \\Sigma_{i=1}^{n} max(0, 1 - y_i[\\langle  \\; w, \\psi(x_i) \\; \\rangle])$\n",
    "\n",
    "Generalized objective:\n",
    "\n",
    "$min_{w\\in H}  R(||w||) + L(\\langle  \\; w, \\psi(x_1) \\; \\rangle, .... , \\langle  \\; w, \\psi(x_n) \\; \\rangle)$,\n",
    "\n",
    "where\n",
    "\n",
    "$R: R^{>=0} -> R$ in nondecreasing (Regularization term)  \n",
    "$L: R^n -> R$ is arbitrary (Loss term)   \n",
    "with Hilbert space $H$, typically $H = R^d$\n",
    "\n",
    "Ridge regression and SVM are of this form.  \n",
    "Lasso regression is not of this form, as $l_1$ does not correspond to an inner product (Why is this important? see section....).\n",
    "\n",
    "#### Representer Theorem\n",
    "\n",
    "Let $min_{w\\in H}  R(||w||) + L(\\langle  \\; w, \\psi(x_1) \\; \\rangle, .... , \\langle  \\; w, \\psi(x_n) \\; \\rangle)$.\n",
    "\n",
    "If J(w) has a minimizer, then it has a minimizer of the form $w^* = \\Sigma_{i=1}^{n} \\alpha_i \\psi(x_i)$. Thus $w^*$ lies in the span of the data; is a linear combination of the featurized input vectors.\n",
    "\n",
    "Proof\n",
    "\n",
    "Let w be a minimizer  \n",
    "Let $M = span(\\langle  \\; w, \\psi(x_1) \\; \\rangle, .... , \\langle  \\; w, \\psi(x_n) \\; \\rangle)$  \n",
    "Let $w^*= Proj_M w$. So $\\exists$ s.t. $w^* = \\Sigma_{i=1}^{n} \\alpha_i \\psi(x_i)$  \n",
    "$w^*$ lives in $R^d$ but it lives also in M, which is a subspace of $R^d$ of dimension n.  \n",
    "$w^{\\bot} := w - w^*$ is orthogonal to M.  \n",
    "Projections decrease norms: $||w^*|| \\leq ||w||$  \n",
    "Since R is nondecreasing, $R(||w^*||) \\leq R(||w||)$  \n",
    "\n",
    "$\\langle  \\; w, \\psi(x_i) \\; \\rangle = \\langle  \\; w^* + w - w^*, \\psi(x_i) \\; \\rangle = \\langle  \\; w^* + w^{\\bot}, \\psi(x_i) \\; \\rangle = \\langle  \\; w^*, \\psi(x_i) \\; \\rangle + \\langle  \\; w^{\\bot}, \\psi(x_i) \\; \\rangle\n",
    "= \\langle  \\; w^*, \\psi(x_i) \\; \\rangle$  \n",
    "\n",
    "So $L(\\langle  \\; w, \\psi(x_i) \\; \\rangle) = L(\\langle  \\; w^*, \\psi(x_i) \\; \\rangle)$  \n",
    "\n",
    "$J(w^*) \\leq J(w)$\n",
    "\n",
    "Therefore $w^* = \\Sigma_{i=1}^{n} \\alpha_i \\psi(x_i)$ is also a minimizer.\n",
    "\n",
    "\n",
    "#### Kernalized predictions\n",
    "\n",
    "Consider $w^* = \\Sigma_{i=1}^{n} \\alpha_i \\psi(x_i)$ (In he following w is used, but I refer to $w^*$ as described in the representer theorem).  \n",
    "\n",
    "How do we make predictions for a given $x \\in \\chi$?  \n",
    "\n",
    "$f(x) = \\langle  \\; w, \\psi(x) \\; \\rangle = \\langle  \\; \\Sigma_{i=1}^{n} \\alpha_i \\psi(x_i), \\psi(x) \\; \\rangle = \\Sigma_{i=1}^{n} \\alpha_i \\langle  \\; \\psi(x_i), \\psi(x) \\; \\rangle = \\Sigma_{i=1}^{n} \\alpha_i k(x_ix)$\n",
    "\n",
    "Predictions on training points $x_1$ to $x_n$:  \n",
    "\n",
    "$ \\left(\\begin{array}{r} \n",
    "f(x_1) \\\\ \n",
    "... \\\\ \n",
    "f(x_n)\\\\ \n",
    "\\end{array}\\right) = \\left(\\begin{array}{r} \n",
    "\\Sigma_{i=1}^{n} \\alpha_i k(x_ix_1) \\\\ \n",
    "... \\\\ \n",
    "\\Sigma_{i=1}^{n} \\alpha_i k(x_ix_n)\\\\ \n",
    "\\end{array}\\right)= \\left(\\begin{array}{r} \n",
    "\\alpha_1k(x_1x_1) + ... + \\alpha_nk(x_1x_n) \\\\ \n",
    "... \\\\ \n",
    "\\alpha_1k(x_nx_1) + ... + \\alpha_nk(x_nx_n)\\\\ \n",
    "\\end{array}\\right) = \\left(\\begin{array}{r} \n",
    "k(x_1x_1) + ... + k(x_1x_n) \\\\ \n",
    "... \\\\ \n",
    "k(x_nx_1) + ... + k(x_nx_n)\\\\ \n",
    "\\end{array}\\right) \\left(\\begin{array}{r} \n",
    "\\alpha_1\\\\ \n",
    "... \\\\ \n",
    "\\alpha_n\\\\ \n",
    "\\end{array}\\right) = K\\alpha$  \n",
    "\n",
    "Note: f(x) is a linear combination of $k(x_1,x),...,k(x_n,x)$, all considered functions of x.  \n",
    "\n",
    "\n",
    "#### Kernalized regularization\n",
    "\n",
    "Consider $w = \\Sigma_{i=1}^{n} \\alpha_i \\psi(x_i)$. What does $R(||w||)$ look like?  \n",
    "\n",
    "$||w||^2 = \\langle  \\; w, w \\; \\rangle = \\langle  \\; \\Sigma_{i=1}^{n} \\alpha_i \\psi(x_i), \\Sigma_{i=1}^{n} \\alpha_i \\psi(x_i) \\; \\rangle = \\Sigma_{i,j=1}^{n} \\alpha_i \\alpha_j \\langle  \\; \\psi(x_i), \\psi(x_j) \\; \\rangle = \\Sigma_{i,j=1}^{n} \\alpha_i \\alpha_j k(x_i,x_j) = \\alpha^TK\\alpha$\n",
    "\n",
    "This is a quadratic form.\n",
    "\n",
    "#### Now we can kernalize some objective functions\n",
    "\n",
    "##### Kernalize SVM\n",
    "\n",
    "The SVM objective:  \n",
    "\n",
    "$min_{w\\in R^d} \\frac{1}{2} ||w||^2 + \\frac{c}{n} \\Sigma_{i=1}^{n} max(0, 1 - y_i[\\langle  \\; w, \\psi(x_i) \\; \\rangle])$\n",
    "\n",
    "Kernelizing yields:\n",
    "\n",
    "$min_{\\alpha\\in R^n} \\frac{1}{2} \\alpha^TK\\alpha + \\frac{c}{n} \\Sigma_{i=1}^{n} max(0, 1 - y_i(K\\alpha)_i)$\n",
    "\n",
    "SVM work very nicely with kernalizations, as many $\\alpha's$ are equal to 0. So not all n datapoints are needed for a prediction.\n",
    "\n",
    "##### Kernalize Ridge Regression\n",
    "\n",
    "Featurized ridge regression\n",
    "\n",
    "$min_{w\\in R^d} \\frac{1}{n} \\Sigma_{i=1}^{n} (\\langle  \\; w, \\psi(x_i) \\; \\rangle - y_i)^2 + \\lambda ||w||^2$\n",
    "\n",
    "Kernalized ridge Regression:\n",
    "\n",
    "$min_{\\alpha\\in R^n} \\frac{1}{n} ||K\\alpha - y||^2 + \\lambda\\alpha^TK\\alpha$"
   ]
  },
  {
   "cell_type": "markdown",
   "metadata": {},
   "source": [
    "## Extracting mfcc vectors from the soundfiles and saving them as json file"
   ]
  },
  {
   "cell_type": "code",
   "execution_count": 1,
   "metadata": {},
   "outputs": [],
   "source": [
    "import os\n",
    "import librosa\n",
    "import math\n",
    "import json\n",
    "\n",
    "DATASET_PATH = \"Genres\"\n",
    "JSON_PATH = \"data.json\"\n",
    "\n",
    "SAMPLE_RATE = 22050\n",
    "DURATION = 30 # measured in seconds\n",
    "SAMPLES_PER_TRACK = SAMPLE_RATE * DURATION\n",
    "\n",
    "\n",
    "# json_path: path to the file where we store all mfccs and the labels\n",
    "# each track is chopped into 10 segments\n",
    "\n",
    "def save_mfcc(dataset_path, json_path, n_mfcc=13, n_fft=2048, hop_length=512, num_segments=10):\n",
    "    \n",
    "    # dictionary to store data\n",
    "    data = {\n",
    "      \"mapping\": [], # classical is mapped to indice 0\n",
    "      \"mfcc\": [], # mfccs for each segment\n",
    "      \"labels\":[]  # target (first segment is classical, second, classical....)\n",
    "\n",
    "    }\n",
    "    \n",
    "    num_samples_per_segment = int(SAMPLES_PER_TRACK / num_segments)\n",
    "    expected_num_mfcc_vectors_per_segment = math.ceil(num_samples_per_segment / hop_length)\n",
    "    \n",
    "    # loop through all the genres\n",
    "    for i, (dirpath, dirnames, filenames) in enumerate(os.walk(dataset_path)):\n",
    "        # esnure that we're not at the root/dataset level\n",
    "        if dirpath is not dataset_path:   #dirpath gives path of current directory\n",
    "            \n",
    "            # save the semantic label\n",
    "            dirpath_components = dirpath.split(\"/\") # genre/blues => [\"genre\", \"blues\"]\n",
    "            semantic_label = dirpath_components[-1]  # last entry of dirpath_components\n",
    "            data[\"mapping\"].append(semantic_label)\n",
    "            print(\"\\nProcessing {}\".format(semantic_label))\n",
    "\n",
    "            # process files for a specific genre\n",
    "            for f in filenames:\n",
    "                \n",
    "                #load audio file\n",
    "                file_path = os.path.join(dirpath, f)\n",
    "                print(file_path)\n",
    "                signal, sr = librosa.load(file_path, sr=SAMPLE_RATE)\n",
    "                \n",
    "                # process segments extracting mfcc and storing data\n",
    "                for s in range(num_segments):\n",
    "                    start_sample = num_samples_per_segment * s # s = 0 -> 0\n",
    "                    finish_sample = start_sample + num_samples_per_segment # s = 0 -> num_samples_per_segment\n",
    "\n",
    "          \n",
    "                    mfcc = librosa.feature.mfcc(signal[start_sample:finish_sample],\n",
    "                                                      sr=sr,\n",
    "                                                      n_fft=n_fft,\n",
    "                                                      n_mfcc=n_mfcc,\n",
    "                                                      hop_length=hop_length)\n",
    "                    \n",
    "                    mfcc = mfcc.T  # transpose -> mfcc vectors are columns\n",
    "                    \n",
    "                    \n",
    "                    # store mfcc for segment if it has the expected length\n",
    "                    if len(mfcc) == expected_num_mfcc_vectors_per_segment:\n",
    "                        data[\"mfcc\"].append(mfcc.tolist())\n",
    "                        data[\"labels\"].append(i-1) # cause the first iteration is at the root level\n",
    "                        print(\"{}, segment:{}\".format(file_path, s))\n",
    "   \n",
    "    with open(json_path, \"w\") as fp:\n",
    "        json.dump(data, fp, indent=4)\n",
    "\n",
    "if __name__ == \"__main__\":\n",
    "    save_mfcc(DATASET_PATH, JSON_PATH, num_segments=10)"
   ]
  },
  {
   "cell_type": "markdown",
   "metadata": {},
   "source": [
    "## Loading json file containing mfcc vectors and genre labels"
   ]
  },
  {
   "cell_type": "code",
   "execution_count": 2,
   "metadata": {},
   "outputs": [],
   "source": [
    "import json\n",
    "import os\n",
    "import numpy as np\n",
    "from sklearn.model_selection import train_test_split\n",
    "import matplotlib.pyplot as plt\n",
    "from sklearn import svm, metrics\n",
    "from sklearn.neural_network import MLPClassifier\n",
    "from sklearn.model_selection import cross_val_score\n",
    "\n",
    "\n",
    "DATASET_PATH = \"data10.json\"  # Here I import a smaller version of the GTZAN Dataset with 10 songs per genre\n",
    "\n",
    "def load_data(dataset_path):\n",
    "    with open(dataset_path, \"r\") as fp: # r = read\n",
    "        data = json.load(fp)\n",
    "        \n",
    "    # convert lists into numpy arrays\n",
    "    inputs = np.array(data[\"mfcc\"])\n",
    "    targets = np.array(data[\"labels\"])\n",
    "\n",
    "    return inputs, targets\n"
   ]
  },
  {
   "cell_type": "code",
   "execution_count": 3,
   "metadata": {},
   "outputs": [],
   "source": [
    "#load data\n",
    "inputs, targets = load_data(DATASET_PATH)\n",
    "\n",
    "# split the data into train and test sets\n",
    "X_train, X_test, y_train, y_test = train_test_split(inputs, targets, test_size=0.3)"
   ]
  },
  {
   "cell_type": "markdown",
   "metadata": {},
   "source": [
    "### Flattening and Normalizing Input vectors"
   ]
  },
  {
   "cell_type": "code",
   "execution_count": 4,
   "metadata": {},
   "outputs": [],
   "source": [
    "from sklearn.preprocessing import StandardScaler\n",
    "\n",
    "# Reshape inputs: Inputs have 3 dimensions (0:segments, 1:mfcc windows in each segment, 2:mff vectors)\n",
    "# for each segment we concatenate all mfcc vectors\n",
    "\n",
    "# inputs_train.shape = (699, 130, 13) inputs_train_reshaped.shape = (699, 1690)\n",
    "X_train_reshaped = X_train.reshape(699,1690)\n",
    "# inputs_train.shape = (300, 130, 13) inputs_train_reshaped.shape = (300, 1690)\n",
    "X_test_reshaped = X_test.reshape(300,1690)\n",
    "\n",
    "# normalizing input features\n",
    "X_train = StandardScaler().fit_transform(X_train_reshaped)\n",
    "X_test = StandardScaler().fit_transform(X_test_reshaped)"
   ]
  },
  {
   "cell_type": "markdown",
   "metadata": {},
   "source": [
    "\n",
    "Input data:"
   ]
  },
  {
   "cell_type": "code",
   "execution_count": 5,
   "metadata": {},
   "outputs": [
    {
     "data": {
      "text/plain": [
       "(699, 1690)"
      ]
     },
     "execution_count": 5,
     "metadata": {},
     "output_type": "execute_result"
    }
   ],
   "source": [
    "X_train.shape"
   ]
  },
  {
   "cell_type": "markdown",
   "metadata": {},
   "source": [
    "For each 10s segment we had 130 mfcc vectors. After flattening the data we get a 1690 dimensional vector for each of the 699 10s segments. As described above, kernalzing an objective function can give you access to high dimensional feature spaces. For a polynomail kernel of degree 3 for example, the featurized input vector is of order $O(d^3)$. For our 1690 dimensional feature vectors this results in a dimension of the order $10^9$. \n",
    "Overfitting should not be a problem as long as we use regularization. With such a large feature space we probably can generate a quite expressive model, while the computational cost is reduced by the kernalization, as the number of data points is comparatively very low (see above). SVM's can be kernalized. Also, as many $\\alpha's$ are 0 (this can be seen by optimizing the dual objective of a SVM), such that not all n data points are needed for making predictions. Therefore SVM's with different kernels are used in the following to classify the songs into 10 different genres."
   ]
  },
  {
   "cell_type": "markdown",
   "metadata": {},
   "source": [
    "## SVM with different kernels (linear, poly, rbf)\n",
    "\n",
    "Using 5 fold Cross Validation to tune C value of SVM"
   ]
  },
  {
   "cell_type": "code",
   "execution_count": 6,
   "metadata": {},
   "outputs": [
    {
     "data": {
      "image/png": "[encoded data removed]",
      "text/plain": [
       "<Figure size 432x288 with 1 Axes>"
      ]
     },
     "metadata": {
      "needs_background": "light"
     },
     "output_type": "display_data"
    },
    {
     "name": "stdout",
     "output_type": "stream",
     "text": [
      "Choice of C:  10.0\n",
      "Cross-validation accuracy score estimate:  0.8498343685300208\n"
     ]
    }
   ],
   "source": [
    "c_values = [0.001,0.01,0.1,1.0,10.0,100.0]\n",
    "\n",
    "acc_scores_rbf = []\n",
    "for c in c_values:\n",
    "    \n",
    "    clf = svm.SVC(C=c, kernel = 'rbf')\n",
    "    scores = cross_val_score(clf, X_train, y_train, cv=10)\n",
    "    m = scores.mean()\n",
    "    acc_scores_rbf.append(m)\n",
    "    \n",
    "index_max = max(range(len(acc_scores_rbf)), key=acc_scores_rbf.__getitem__) # get the index of hyperparameter with max accuracy \n",
    "    \n",
    "plt.plot(c_values, acc_scores_rbf)\n",
    "plt.show()\n",
    "h, s = c_values[index_max], max(acc_scores_rbf)\n",
    "print(\"Choice of C: \", h)\n",
    "print(\"Cross-validation accuracy score estimate: \", s)"
   ]
  },
  {
   "cell_type": "code",
   "execution_count": 7,
   "metadata": {},
   "outputs": [
    {
     "data": {
      "text/plain": [
       "1.0"
      ]
     },
     "execution_count": 7,
     "metadata": {},
     "output_type": "execute_result"
    }
   ],
   "source": [
    "clf_rbf = svm.SVC(C=10, kernel = 'rbf')\n",
    "clf_rbf.fit(X_train, y_train)\n",
    "y_pred = clf_rbf.predict(X_train)\n",
    "metrics.accuracy_score(y_train, y_pred)"
   ]
  },
  {
   "cell_type": "code",
   "execution_count": 8,
   "metadata": {},
   "outputs": [
    {
     "data": {
      "text/plain": [
       "0.8466666666666667"
      ]
     },
     "execution_count": 8,
     "metadata": {},
     "output_type": "execute_result"
    }
   ],
   "source": [
    "y_pred_rbf = clf_rbf.predict(X_test)\n",
    "metrics.accuracy_score(y_test, y_pred_rbf)"
   ]
  },
  {
   "cell_type": "code",
   "execution_count": 9,
   "metadata": {},
   "outputs": [
    {
     "data": {
      "image/png": "[encoded data removed]",
      "text/plain": [
       "<Figure size 432x288 with 1 Axes>"
      ]
     },
     "metadata": {
      "needs_background": "light"
     },
     "output_type": "display_data"
    },
    {
     "name": "stdout",
     "output_type": "stream",
     "text": [
      "Choice of C:  10.0\n",
      "Cross-validation accuracy score estimate:  0.6938540596094553\n"
     ]
    }
   ],
   "source": [
    "c_values = [0.001,0.01,0.1,1.0,10.0,100.0]\n",
    "\n",
    "acc_scores_poly = []\n",
    "for c in c_values:\n",
    "    \n",
    "    clf = svm.SVC(C=c, kernel = 'poly')\n",
    "    scores = cross_val_score(clf, X_train, y_train, cv=5)\n",
    "    m = scores.mean()\n",
    "    acc_scores_poly.append(m)\n",
    "    \n",
    "index_max = max(range(len(acc_scores_poly)), key=acc_scores_poly.__getitem__) # get the index of hyperparameter with max accuracy \n",
    "    \n",
    "plt.plot(c_values, acc_scores_poly)\n",
    "plt.show()\n",
    "h, s = c_values[index_max], max(acc_scores_poly)\n",
    "print(\"Choice of C: \", h)\n",
    "print(\"Cross-validation accuracy score estimate: \", s)"
   ]
  },
  {
   "cell_type": "code",
   "execution_count": 10,
   "metadata": {},
   "outputs": [
    {
     "data": {
      "text/plain": [
       "1.0"
      ]
     },
     "execution_count": 10,
     "metadata": {},
     "output_type": "execute_result"
    }
   ],
   "source": [
    "clf_poly = svm.SVC(C=10, kernel = 'poly')\n",
    "clf_poly.fit(X_train, y_train)\n",
    "y_pred = clf_poly.predict(X_train)\n",
    "metrics.accuracy_score(y_train, y_pred)"
   ]
  },
  {
   "cell_type": "code",
   "execution_count": 11,
   "metadata": {},
   "outputs": [
    {
     "data": {
      "text/plain": [
       "0.7233333333333334"
      ]
     },
     "execution_count": 11,
     "metadata": {},
     "output_type": "execute_result"
    }
   ],
   "source": [
    "y_pred_poly = clf_poly.predict(X_test)\n",
    "metrics.accuracy_score(y_test, y_pred_poly)"
   ]
  },
  {
   "cell_type": "code",
   "execution_count": 12,
   "metadata": {},
   "outputs": [
    {
     "data": {
      "image/png": "[encoded data removed]",
      "text/plain": [
       "<Figure size 432x288 with 1 Axes>"
      ]
     },
     "metadata": {
      "needs_background": "light"
     },
     "output_type": "display_data"
    },
    {
     "name": "stdout",
     "output_type": "stream",
     "text": [
      "Choice of C:  0.001\n",
      "Cross-validation accuracy score estimate:  0.7668036998972251\n"
     ]
    }
   ],
   "source": [
    "c_values = [0.00001,0.0001,0.001,0.01,0.1,1]\n",
    "\n",
    "acc_scores_linear = []\n",
    "for c in c_values:\n",
    "    \n",
    "    clf = svm.SVC(C=c, kernel = 'linear')\n",
    "    scores = cross_val_score(clf, X_train, y_train, cv=5)\n",
    "    m = scores.mean()\n",
    "    acc_scores_linear.append(m)\n",
    "    \n",
    "index_max = max(range(len(acc_scores_linear)), key=acc_scores_linear.__getitem__) # get the index of hyperparameter with max accuracy \n",
    "    \n",
    "plt.plot(c_values, acc_scores_linear)\n",
    "plt.show()\n",
    "h, s = c_values[index_max], max(acc_scores_linear)\n",
    "print(\"Choice of C: \", h)\n",
    "print(\"Cross-validation accuracy score estimate: \", s)"
   ]
  },
  {
   "cell_type": "code",
   "execution_count": 13,
   "metadata": {},
   "outputs": [
    {
     "data": {
      "text/plain": [
       "0.9728183118741058"
      ]
     },
     "execution_count": 13,
     "metadata": {},
     "output_type": "execute_result"
    }
   ],
   "source": [
    "clf_linear = svm.SVC(C=0.001, kernel = 'linear')\n",
    "clf_linear.fit(X_train, y_train)\n",
    "y_pred = clf_linear.predict(X_train)\n",
    "metrics.accuracy_score(y_train, y_pred)"
   ]
  },
  {
   "cell_type": "code",
   "execution_count": 14,
   "metadata": {},
   "outputs": [
    {
     "data": {
      "text/plain": [
       "0.7833333333333333"
      ]
     },
     "execution_count": 14,
     "metadata": {},
     "output_type": "execute_result"
    }
   ],
   "source": [
    "y_pred_linear = clf_linear.predict(X_test)\n",
    "metrics.accuracy_score(y_test, y_pred_linear)"
   ]
  },
  {
   "cell_type": "markdown",
   "metadata": {},
   "source": [
    "## Neural network (MLP)"
   ]
  },
  {
   "cell_type": "code",
   "execution_count": 30,
   "metadata": {},
   "outputs": [
    {
     "data": {
      "image/png": "[encoded data removed]",
      "text/plain": [
       "<Figure size 432x288 with 1 Axes>"
      ]
     },
     "metadata": {
      "needs_background": "light"
     },
     "output_type": "display_data"
    },
    {
     "name": "stdout",
     "output_type": "stream",
     "text": [
      "Choice of C:  0.1\n",
      "Cross-validation accuracy score estimate:  0.7825899280575539\n"
     ]
    }
   ],
   "source": [
    "from sklearn.neural_network import MLPClassifier\n",
    "\n",
    "c_values = [0.0001,0.001,0.01,0.1,1.0,10.0]\n",
    "\n",
    "acc_scores_linear = []\n",
    "for c in c_values:\n",
    "    \n",
    "    clf = MLPClassifier(solver='adam', alpha=c,\n",
    "                 hidden_layer_sizes=(850),activation='relu', random_state=1, max_iter = 4000)\n",
    "    scores = cross_val_score(clf, X_train, y_train, cv=5)\n",
    "    m = scores.mean()\n",
    "    acc_scores_linear.append(m)\n",
    "    \n",
    "index_max = max(range(len(acc_scores_linear)), key=acc_scores_linear.__getitem__) # get the index of hyperparameter with max accuracy \n",
    "    \n",
    "plt.plot(c_values, acc_scores_linear)\n",
    "plt.show()\n",
    "h, s = c_values[index_max], max(acc_scores_linear)\n",
    "print(\"Choice of C: \", h)\n",
    "print(\"Cross-validation accuracy score estimate: \", s)"
   ]
  },
  {
   "cell_type": "code",
   "execution_count": 31,
   "metadata": {},
   "outputs": [
    {
     "data": {
      "text/plain": [
       "MLPClassifier(alpha=0.1, hidden_layer_sizes=850, max_iter=4000, random_state=1)"
      ]
     },
     "execution_count": 31,
     "metadata": {},
     "output_type": "execute_result"
    }
   ],
   "source": [
    "from sklearn.neural_network import MLPClassifier\n",
    "\n",
    "clf_mlp = MLPClassifier(solver='adam', alpha=0.1,\n",
    "                 hidden_layer_sizes=(850),activation='relu', random_state=1, max_iter = 4000)\n",
    "\n",
    "clf_mlp.fit(X_train, y_train)"
   ]
  },
  {
   "cell_type": "code",
   "execution_count": 32,
   "metadata": {},
   "outputs": [
    {
     "data": {
      "text/plain": [
       "1.0"
      ]
     },
     "execution_count": 32,
     "metadata": {},
     "output_type": "execute_result"
    }
   ],
   "source": [
    "y_pred = clf_mlp.predict(X_train)\n",
    "metrics.accuracy_score(y_train, y_pred)"
   ]
  },
  {
   "cell_type": "code",
   "execution_count": 33,
   "metadata": {},
   "outputs": [
    {
     "data": {
      "text/plain": [
       "0.78"
      ]
     },
     "execution_count": 33,
     "metadata": {},
     "output_type": "execute_result"
    }
   ],
   "source": [
    "y_pred_mlp = clf_mlp.predict(X_test)\n",
    "metrics.accuracy_score(y_test, y_pred_mlp)"
   ]
  },
  {
   "cell_type": "markdown",
   "metadata": {},
   "source": [
    "## Lower and upper performance bounds"
   ]
  },
  {
   "cell_type": "markdown",
   "metadata": {},
   "source": [
    "### Zero Information baseline model\n",
    "\n"
   ]
  },
  {
   "cell_type": "code",
   "execution_count": 22,
   "metadata": {},
   "outputs": [
    {
     "data": {
      "text/plain": [
       "(array([0, 1, 2, 3, 4, 5, 6, 7, 8, 9]),\n",
       " array([65, 76, 69, 68, 66, 75, 70, 68, 71, 71]))"
      ]
     },
     "execution_count": 22,
     "metadata": {},
     "output_type": "execute_result"
    }
   ],
   "source": [
    "np.unique(y_train, return_counts=True)"
   ]
  },
  {
   "cell_type": "markdown",
   "metadata": {},
   "source": [
    "The second genre seems to be the most frequent genre in the training data set. This is the class we will always predict for the test set."
   ]
  },
  {
   "cell_type": "code",
   "execution_count": 23,
   "metadata": {},
   "outputs": [
    {
     "data": {
      "text/plain": [
       "(array([0, 1, 2, 3, 4, 5, 6, 7, 8, 9]),\n",
       " array([35, 24, 31, 32, 34, 25, 30, 32, 28, 29]))"
      ]
     },
     "execution_count": 23,
     "metadata": {},
     "output_type": "execute_result"
    }
   ],
   "source": [
    "np.unique(y_test, return_counts=True)"
   ]
  },
  {
   "cell_type": "code",
   "execution_count": 24,
   "metadata": {},
   "outputs": [
    {
     "data": {
      "text/plain": [
       "0.08"
      ]
     },
     "execution_count": 24,
     "metadata": {},
     "output_type": "execute_result"
    }
   ],
   "source": [
    "24/len(y_test)"
   ]
  },
  {
   "cell_type": "markdown",
   "metadata": {},
   "source": [
    "The zero information model gets an accuracy of 8% in the test set."
   ]
  },
  {
   "cell_type": "markdown",
   "metadata": {},
   "source": [
    "### Human ability to classifiy musical genre\n",
    "\n",
    "The human ability to classifiy genre should provide an upper bound on the performance of our models. Musical genre is a human concept and the songs of the GTZAN dataset were labeled by humans. Human accuracy lies in the range of 70% (D. Perrot and Robert Gjerdigen, 1999) to 90% (https://www.researchgate.net/publication/200806218_A_Comparison_of_Human_and_Automatic_Musical_Genre_Classification). However these results were obtained with different datasets. As there is not a perfect consensus about labeling musical genres among humans, we cant assume a perfect ground truth for the GTZAN data set. At best I would expect accuracies in the range as reported above.  \n",
    "\n",
    "\n"
   ]
  },
  {
   "cell_type": "markdown",
   "metadata": {},
   "source": [
    "## Performance evaluation"
   ]
  },
  {
   "cell_type": "markdown",
   "metadata": {},
   "source": [
    "### Example: MLP\n",
    "\n",
    "Confusion matrix, precision, recall, ROC"
   ]
  },
  {
   "cell_type": "code",
   "execution_count": 34,
   "metadata": {},
   "outputs": [
    {
     "data": {
      "text/plain": [
       "array([[26,  2,  0,  0,  0,  1,  0,  0,  0,  3],\n",
       "       [ 1, 12,  9,  1,  0,  0,  3,  0,  0,  5],\n",
       "       [ 1,  1, 18,  0,  0,  0,  0,  0,  0,  2],\n",
       "       [ 0,  2,  1, 23,  1,  0,  4,  0,  0,  2],\n",
       "       [ 0,  0,  0,  0, 27,  0,  0,  1,  1,  0],\n",
       "       [ 0,  0,  1,  0,  0, 29,  0,  0,  0,  0],\n",
       "       [ 0,  0,  0,  0,  0,  0, 26,  0,  0,  1],\n",
       "       [ 0,  0,  0,  2,  2,  0,  0, 34,  2,  0],\n",
       "       [ 0,  0,  0,  0, 10,  0,  0,  0, 22,  0],\n",
       "       [ 0,  2,  4,  1,  0,  0,  0,  0,  0, 17]])"
      ]
     },
     "execution_count": 34,
     "metadata": {},
     "output_type": "execute_result"
    }
   ],
   "source": [
    "metrics.confusion_matrix(y_test, y_pred_mlp)"
   ]
  },
  {
   "cell_type": "markdown",
   "metadata": {},
   "source": [
    "The mapping of the labels:\n",
    "       0: \"hiphop\",\n",
    "       1: \"blues\",\n",
    "       2: \"rock\",\n",
    "       3: \"jazz\",\n",
    "       4: \"disco\",\n",
    "       5: \"metal\",\n",
    "       6:\"classical\",\n",
    "       7: \"pop\",\n",
    "       8: \"country\",\n",
    "       9: \"reggae\"\n",
    "\n",
    "The row in the confusion matrix corresponds to the true label and the column corresponds to the predicted label. Erros ocurred e.g. for the genres Bues and Country. For the genre Blues 9 Segments were falsely labeled as Rock and 5 Segments were falsely labeled as Reggea. For the Country Genre 10 Segments were falsely labeld as Disco. Apart from that, the genre classifiaction seems to work pretty well based on mfcc vectors."
   ]
  },
  {
   "cell_type": "markdown",
   "metadata": {},
   "source": [
    "### Precision Recall, ROC curves for multiclass predictions\n",
    "\n",
    "\n",
    "Some classifiers inherently support multiclass classification, for example, multi layer perceptron and logistic regression. For other classifiers like SVM there is no support for multiclass classification and a One vs. Rest strategy is used (default strategy for SVM with sklearn). To evaluate the performance of classifiers Precision, Recall or ROC curves are often used. However these apply to a binary setting. Thus in the following a One vs. All strategy is also used for the MLP to be able to plot these curves. Note that this strategy might worsen the performance of the MLP. "
   ]
  },
  {
   "cell_type": "code",
   "execution_count": 35,
   "metadata": {},
   "outputs": [],
   "source": [
    "from sklearn.multiclass import OneVsRestClassifier\n",
    "from sklearn.metrics import precision_recall_curve, roc_curve\n",
    "from sklearn.metrics import average_precision_score\n",
    "from sklearn.preprocessing import label_binarize\n",
    "\n",
    "n_classes = 10\n",
    "\n",
    "Y_train = label_binarize(y_train, classes=[*range(n_classes)])\n",
    "Y_test = label_binarize(y_test, classes=[*range(n_classes)])\n",
    "\n",
    "\n",
    "clf = OneVsRestClassifier(MLPClassifier(solver='adam', alpha=0.1,\n",
    "                 hidden_layer_sizes=(850),activation='relu', random_state=1, max_iter = 4000))\n",
    "\n",
    "clf.fit(X_train, Y_train)\n",
    "\n",
    "y_score = clf.predict_proba(X_test)"
   ]
  },
  {
   "cell_type": "markdown",
   "metadata": {},
   "source": [
    "### Plot precision recall curves for the multiclass problem\n",
    "\n",
    "https://scikit-learn.org/stable/auto_examples/model_selection/plot_precision_recall.html"
   ]
  },
  {
   "cell_type": "code",
   "execution_count": 36,
   "metadata": {},
   "outputs": [
    {
     "data": {
      "image/png": "[encoded data removed]",
      "text/plain": [
       "<Figure size 432x288 with 1 Axes>"
      ]
     },
     "metadata": {
      "needs_background": "light"
     },
     "output_type": "display_data"
    }
   ],
   "source": [
    "\n",
    "# precision recall curve\n",
    "precision = dict()\n",
    "recall = dict()\n",
    "average_precision = dict()\n",
    "for i in range(n_classes):\n",
    "    precision[i], recall[i], _ = precision_recall_curve(Y_test[:, i],\n",
    "                                                        y_score[:, i])\n",
    "    \n",
    "    average_precision[i] = average_precision_score(Y_test[:, i], y_score[:, i])\n",
    "\n",
    "    plt.plot(recall[i], precision[i], lw=2, label='class {}'.format(i))\n",
    "    \n",
    "plt.xlabel(\"recall\")\n",
    "plt.ylabel(\"precision\")\n",
    "plt.legend(loc=\"best\")\n",
    "plt.title(\"precision vs. recall curve\")\n",
    "plt.show()\n"
   ]
  },
  {
   "cell_type": "markdown",
   "metadata": {},
   "source": [
    "0: \"hiphop\", 1: \"blues\", 2: \"rock\", 3: \"jazz\", 4: \"disco\", 5: \"metal\", 6:\"classical\", 7: \"pop\", 8: \"country\", 9: \"reggae\"\n",
    "\n",
    "The precision recall curves vary quite a lot between different genres. For Metal and Classical music Precision stays very high as the threshold is lowered and Recall is increasing. On the other hand for Reaggea, Blues and Rock Precision quickly deteriorates with decreasing threshold. This means that with deacreasing threshold more Genres get a false positive rating, thus the model cant differntiate between the corresponding genre and other genres anymore. For the Genre Blues probably many Rock Segements got falsely classified as Blues (see the confusion matrix above). Maybe some genres can better be separated by rythmic features rather than timbre while for other Genres like Metal music timbre features work very well."
   ]
  },
  {
   "cell_type": "code",
   "execution_count": 37,
   "metadata": {},
   "outputs": [
    {
     "data": {
      "image/png": "[encoded data removed]",
      "text/plain": [
       "<Figure size 432x288 with 1 Axes>"
      ]
     },
     "metadata": {
      "needs_background": "light"
     },
     "output_type": "display_data"
    }
   ],
   "source": [
    "from sklearn.metrics import PrecisionRecallDisplay\n",
    "\n",
    "# A \"micro-average\": quantifying score on all classes jointly\n",
    "precision[\"micro\"], recall[\"micro\"], _ = precision_recall_curve(\n",
    "    Y_test.ravel(), y_score.ravel()\n",
    ")\n",
    "average_precision[\"micro\"] = average_precision_score(Y_test, y_score, average=\"micro\")\n",
    "\n",
    "\n",
    "display = PrecisionRecallDisplay(\n",
    "    recall=recall[\"micro\"],\n",
    "    precision=precision[\"micro\"],\n",
    "    average_precision=average_precision[\"micro\"],\n",
    ")\n",
    "display.plot()\n",
    "_ = display.ax_.set_title(\"Micro-averaged over all classes\")\n"
   ]
  },
  {
   "cell_type": "markdown",
   "metadata": {},
   "source": [
    "In this plot Precision and Recall are averaged across all classes.\n",
    "\n",
    "AP = Average Precision\n",
    "AP summarizes a precision-recall curve as the weighted mean of precisions achieved at each threshold, with the increase in recall from the previous threshold used as the weight."
   ]
  },
  {
   "cell_type": "markdown",
   "metadata": {},
   "source": [
    "Overall the model seems to predict musical genres in the GTZAN dataset quite well. The average precision is 83%, i.e. on average 83% of positive prediction for a paricular class are correct."
   ]
  },
  {
   "cell_type": "markdown",
   "metadata": {},
   "source": [
    "### Plot ROC curves for the multiclass problem\n",
    "\n",
    "https://scikit-learn.org/stable/auto_examples/model_selection/plot_roc.html"
   ]
  },
  {
   "cell_type": "markdown",
   "metadata": {},
   "source": [
    "#### ROC Curves\n",
    "\n",
    "TPR: TP/(TP + FN) The proportion of positive predictions on all actual positives.  \n",
    "FPR: FP/(FP + TN) The proportion of poisitve predictions on all actual negatives.  \n",
    "\n",
    "https://de.wikipedia.org/wiki/ROC-Kurve#/media/Datei:ROC_curves.svg"
   ]
  },
  {
   "cell_type": "code",
   "execution_count": 38,
   "metadata": {},
   "outputs": [
    {
     "data": {
      "image/png": "[encoded data removed]",
      "text/plain": [
       "<Figure size 432x288 with 1 Axes>"
      ]
     },
     "metadata": {
      "needs_background": "light"
     },
     "output_type": "display_data"
    }
   ],
   "source": [
    "from sklearn.metrics import auc\n",
    "\n",
    "# roc curve\n",
    "fpr = dict()\n",
    "tpr = dict()\n",
    "roc_auc = dict()\n",
    "\n",
    "for i in range(n_classes):\n",
    "    fpr[i], tpr[i], _ = roc_curve(Y_test[:, i],\n",
    "                                  y_score[:, i])\n",
    "    roc_auc[i] = auc(fpr[i], tpr[i])\n",
    "    plt.plot(fpr[i], tpr[i], lw=2, label='class {}'.format(i))\n",
    "\n",
    "plt.xlabel(\"false positive rate\")\n",
    "plt.ylabel(\"true positive rate\")\n",
    "plt.legend(loc=\"best\")\n",
    "plt.title(\"ROC curve\")\n",
    "plt.show()"
   ]
  },
  {
   "cell_type": "markdown",
   "metadata": {},
   "source": [
    "0: \"hiphop\", 1: \"blues\", 2: \"rock\", 3: \"jazz\", 4: \"disco\", 5: \"metal\", 6:\"classical\", 7: \"pop\", 8: \"country\", 9: \"reggae\"\n",
    "\n",
    "THe ROC Curves show a similar performance pattern as the Precision Recall plot for all classes. Reggea, Blues and Jazz semm camparatively harder do discriminate form the other genres, whereas Classical, Metal and Pop increase in TPR very fast. However all ROC curves lie far above the diagonal, suggesting a very good discriminability between genres based on timbre information (mfcc's)."
   ]
  },
  {
   "cell_type": "markdown",
   "metadata": {},
   "source": [
    "## Comparing average Precision Recall curves between classifiers"
   ]
  },
  {
   "cell_type": "code",
   "execution_count": 39,
   "metadata": {},
   "outputs": [],
   "source": [
    "from sklearn.multiclass import OneVsRestClassifier\n",
    "from sklearn.metrics import precision_recall_curve, roc_curve\n",
    "from sklearn.metrics import average_precision_score, PrecisionRecallDisplay\n",
    "from sklearn.preprocessing import label_binarize\n",
    "\n",
    "n_classes = 10\n",
    "\n",
    "Y_train = label_binarize(y_train, classes=[*range(n_classes)])\n",
    "Y_test = label_binarize(y_test, classes=[*range(n_classes)])\n",
    "\n",
    "# Creating One vs Rest Classifier \n",
    "\n",
    "# We already fitted the MLP OvR classifier above (clf = clf_mlp)\n",
    "\n",
    "#Poly SVM\n",
    "\n",
    "clf_poly = OneVsRestClassifier(svm.SVC(C=10, kernel = 'poly'))\n",
    "\n",
    "clf_poly.fit(X_train, Y_train)\n",
    "\n",
    "y_score_poly = clf_poly.decision_function(X_test)\n",
    "\n",
    "\n",
    "#Rbf SVM\n",
    "\n",
    "clf_rbf = OneVsRestClassifier(svm.SVC(C=10, kernel = 'rbf'))\n",
    "\n",
    "clf_rbf.fit(X_train, Y_train)\n",
    "\n",
    "y_score_rbf = clf_rbf.decision_function(X_test)\n",
    "\n",
    "\n",
    "#Linear SVM\n",
    "\n",
    "clf_linear = OneVsRestClassifier(svm.SVC(C=0.001, kernel = 'linear'))\n",
    "\n",
    "clf_linear.fit(X_train, Y_train)\n",
    "\n",
    "y_score_linear = clf_linear.decision_function(X_test)"
   ]
  },
  {
   "cell_type": "code",
   "execution_count": 40,
   "metadata": {},
   "outputs": [
    {
     "data": {
      "image/png": "[encoded data removed]",
      "text/plain": [
       "<Figure size 432x288 with 1 Axes>"
      ]
     },
     "metadata": {
      "needs_background": "light"
     },
     "output_type": "display_data"
    },
    {
     "name": "stdout",
     "output_type": "stream",
     "text": [
      "AP-MLP = 0.8282845736105969\n",
      "AP-Poly = 0.7849483997945397\n",
      "AP-RBF = 0.8877723263624959\n",
      "AP-Linear = 0.7345388313246329\n"
     ]
    }
   ],
   "source": [
    "# Average precision recall curves of all 4 classifiers\n",
    "\n",
    "clf_names = [\"MLP\", \"Poly(3) SVM\", \"RBF SVM\", \"Linear SVM\"]\n",
    "clf_scores = [y_score, y_score_poly, y_score_rbf, y_score_linear]\n",
    "precision = dict()\n",
    "recall = dict()\n",
    "average_precision = dict()\n",
    "\n",
    "for i in range(4):\n",
    "    # A \"micro-average\": quantifying score on all classes jointly\n",
    "    precision[\"micro\" + str(i)], recall[\"micro\" + str(i)], _ = precision_recall_curve(Y_test.ravel(), clf_scores[i].ravel())\n",
    "    \n",
    "    average_precision[\"micro\" + str(i)] = average_precision_score(Y_test, clf_scores[i], average=\"micro\")\n",
    "\n",
    "    plt.plot(recall[\"micro\" + str(i)], precision[\"micro\" + str(i)], lw=2, label='clf {}'.format(clf_names[i]))\n",
    "\n",
    "\n",
    "plt.xlabel(\"recall\")\n",
    "plt.ylabel(\"precision\")\n",
    "plt.legend(loc=\"best\")\n",
    "plt.title(\"precision vs. recall curve\")\n",
    "plt.show()\n",
    "\n",
    "print(\"AP-MLP = \" + str(average_precision[\"micro\" + str(0)]))\n",
    "print(\"AP-Poly = \" + str(average_precision[\"micro\" + str(1)]))\n",
    "print(\"AP-RBF = \" + str(average_precision[\"micro\" + str(2)]))\n",
    "print(\"AP-Linear = \" + str(average_precision[\"micro\" + str(3)]))"
   ]
  },
  {
   "cell_type": "markdown",
   "metadata": {},
   "source": [
    "## Performance on test set:\n",
    "\n",
    "### Micro averaged Precision Recall Curves\n",
    "\n",
    "Highest Average Precision is obtained by the SVM with the RBF kernel, followed by the MLP. Both models are very expressive and thus its not surprising that they outperform the other models. \n",
    "However the SVM clearly outperforms the MLP in time used for optimization. For the MLP one hidden layer was used, where the number of nodes (850) is the average between input and ouput layer (see https://stats.stackexchange.com/questions/181/how-to-choose-the-number-of-hidden-layers-and-nodes-in-a-feedforward-neural-netw).\n",
    "Thus there are over 1 million parameters (1445860) for the MLP. For the SVM on the other hand we minimize over alpha with n dimensions (see above). Thus we only need to find n = 699 parameters. Therefore kernalized SVM leverages the fact that n << d in our dataset.\n",
    "\n",
    "Comparing the linear and the polynomial kernel (degree 3) for the SVM, the poly-kernel outperforms the linear kernel according to the AP scores. Considering the PR plot, the linear kernel model outperforms the ploy kernel up to a certain threshold with Recall = 50%. After that intersection point Precision drops faster for the linear kernel than the poly kernel. Depending on your requirements on Precison and recall one might prefer one model over the other. \n",
    "\n",
    "All three models perform quite well on the genre classification task, way better than a 0 information baseline model and in the range of the accuray of classification by humans. The SVM with the RBF kernel seems to have the best performance on the test set. The RBF kernel is the most exprexssive kernel and has radial similarity contour lines, which might be of advantage for the this task. Although a Neural network is a very expressice model it does not perform as well as the SVM. With 700 data points for training we have a rather small data set, considering the number paramaters in the MLP. To leverage the expressivenes of the MLP one might need to use more data to train the model. In this example I used only a subset of the GTZAN dataset. It would be interesting to compare performance measures when using the whole data set.\n",
    "\n",
    "Overall its surprising that genres can be seperated so well based only on timbral information of the soundfiles. "
   ]
  }
 ],
 "metadata": {
  "colab": {
   "authorship_tag": "ABX9TyOcmHtlJiw0iBh08iZKWaxr",
   "collapsed_sections": [],
   "include_colab_link": true,
   "mount_file_id": "1nfoUnuQctT7dUUB7t4If4MLrhbcULL6t",
   "provenance": []
  },
  "kernelspec": {
   "display_name": "Python 3",
   "language": "python",
   "name": "python3"
  },
  "language_info": {
   "codemirror_mode": {
    "name": "ipython",
    "version": 3
   },
   "file_extension": ".py",
   "mimetype": "text/x-python",
   "name": "python",
   "nbconvert_exporter": "python",
   "pygments_lexer": "ipython3",
   "version": "3.8.3"
  }
 },
 "nbformat": 4,
 "nbformat_minor": 1
}
