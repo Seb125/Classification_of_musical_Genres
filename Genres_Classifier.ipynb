{
 "cells": [
  {
   "cell_type": "markdown",
   "metadata": {
    "colab_type": "text",
    "id": "view-in-github"
   },
   "source": [
    "<a href=\"https://colab.research.google.com/github/Seb125/MFCC_Genres/blob/main/Genres.ipynb\" target=\"_parent\"><img src=\"https://colab.research.google.com/assets/colab-badge.svg\" alt=\"Open In Colab\"/></a>"
   ]
  },
  {
   "cell_type": "markdown",
   "metadata": {},
   "source": [
    "## Genre classification using mfcc's\n",
    "\n",
    "In this notebook I want to classify music from 10 different genres. The input data is the GTZAN Dataset (https://www.kaggle.com/datasets/andradaolteanu/gtzan-dataset-music-genre-classification), which contains 100 30s exerpts for 10 diffenrent genres. For each exerpt mfcc vectors are calculated, which are used as input data for the machine learning algorithms. \n",
    "\n",
    "The mapping of the labels:\n",
    "       0: \"hiphop\",\n",
    "       1: \"blues\",\n",
    "       2: \"rock\",\n",
    "       3: \"jazz\",\n",
    "       4: \"disco\",\n",
    "       5: \"metal\",\n",
    "       6:\"classical\",\n",
    "       7: \"pop\",\n",
    "       8: \"country\",\n",
    "       9: \"reggae\""
   ]
  },
  {
   "cell_type": "code",
   "execution_count": null,
   "metadata": {},
   "outputs": [],
   "source": [
    "import os\n",
    "import librosa\n",
    "import math\n",
    "import json\n",
    "\n",
    "DATASET_PATH = \"Genres\"\n",
    "JSON_PATH = \"data.json\"\n",
    "\n",
    "SAMPLE_RATE = 22050\n",
    "DURATION = 30 # measured in seconds\n",
    "SAMPLES_PER_TRACK = SAMPLE_RATE * DURATION\n",
    "\n",
    "\n",
    "# json_path: path to the file where we store all mfccs and the labels\n",
    "# each track is chopped into 10 segments\n",
    "\n",
    "def save_mfcc(dataset_path, json_path, n_mfcc=13, n_fft=2048, hop_length=512, num_segments=10):\n",
    "    \n",
    "    # dictionary to store data\n",
    "    data = {\n",
    "      \"mapping\": [], # classical is mapped to indice 0\n",
    "      \"mfcc\": [], # mfccs for each segment\n",
    "      \"labels\":[]  # target (first segment is classical, second, classical....)\n",
    "\n",
    "    }\n",
    "    \n",
    "    num_samples_per_segment = int(SAMPLES_PER_TRACK / num_segments)\n",
    "    expected_num_mfcc_vectors_per_segment = math.ceil(num_samples_per_segment / hop_length)\n",
    "    \n",
    "    # loop through all the genres\n",
    "    for i, (dirpath, dirnames, filenames) in enumerate(os.walk(dataset_path)):\n",
    "        # esnure that we're not at the root/dataset level\n",
    "        if dirpath is not dataset_path:   #dirpath gives path of current directory\n",
    "            \n",
    "            # save the semantic label\n",
    "            dirpath_components = dirpath.split(\"/\") # genre/blues => [\"genre\", \"blues\"]\n",
    "            semantic_label = dirpath_components[-1]  # last entry of dirpath_components\n",
    "            data[\"mapping\"].append(semantic_label)\n",
    "            print(\"\\nProcessing {}\".format(semantic_label))\n",
    "\n",
    "            # process files for a specific genre\n",
    "            for f in filenames:\n",
    "                \n",
    "                #load audio file\n",
    "                file_path = os.path.join(dirpath, f)\n",
    "                print(file_path)\n",
    "                signal, sr = librosa.load(file_path, sr=SAMPLE_RATE)\n",
    "                \n",
    "                # process segments extracting mfcc and storing data\n",
    "                for s in range(num_segments):\n",
    "                    start_sample = num_samples_per_segment * s # s = 0 -> 0\n",
    "                    finish_sample = start_sample + num_samples_per_segment # s = 0 -> num_samples_per_segment\n",
    "\n",
    "          \n",
    "                    mfcc = librosa.feature.mfcc(signal[start_sample:finish_sample],\n",
    "                                                      sr=sr,\n",
    "                                                      n_fft=n_fft,\n",
    "                                                      n_mfcc=n_mfcc,\n",
    "                                                      hop_length=hop_length)\n",
    "                    \n",
    "                    mfcc = mfcc.T  # transpose -> mfcc vectors are columns\n",
    "                    \n",
    "                    \n",
    "                    # store mfcc for segment if it has the expected length\n",
    "                    if len(mfcc) == expected_num_mfcc_vectors_per_segment:\n",
    "                        data[\"mfcc\"].append(mfcc.tolist())\n",
    "                        data[\"labels\"].append(i-1) # cause the first iteration is at the root level\n",
    "                        print(\"{}, segment:{}\".format(file_path, s))\n",
    "   \n",
    "    with open(json_path, \"w\") as fp:\n",
    "        json.dump(data, fp, indent=4)\n",
    "\n",
    "if __name__ == \"__main__\":\n",
    "    save_mfcc(DATASET_PATH, JSON_PATH, num_segments=10)"
   ]
  },
  {
   "cell_type": "markdown",
   "metadata": {},
   "source": [
    "## Trying different classifiers (MLP, SVM, KNN) on the flattened feature vectors"
   ]
  },
  {
   "cell_type": "code",
   "execution_count": 1,
   "metadata": {},
   "outputs": [],
   "source": [
    "import json\n",
    "import os\n",
    "import numpy as np\n",
    "from sklearn.model_selection import train_test_split\n",
    "import matplotlib.pyplot as plt\n",
    "from sklearn import svm, metrics\n",
    "from sklearn.neural_network import MLPClassifier\n",
    "from sklearn.model_selection import cross_val_score\n",
    "\n",
    "\n",
    "DATASET_PATH = \"data10.json\"  # Here I import a smaller version of the GTZAN Dataset with 10 songs per genre\n",
    "\n",
    "def load_data(dataset_path):\n",
    "    with open(dataset_path, \"r\") as fp: # r = read\n",
    "        data = json.load(fp)\n",
    "        \n",
    "    # convert lists into numpy arrays\n",
    "    inputs = np.array(data[\"mfcc\"])\n",
    "    targets = np.array(data[\"labels\"])\n",
    "\n",
    "    return inputs, targets\n"
   ]
  },
  {
   "cell_type": "code",
   "execution_count": 2,
   "metadata": {},
   "outputs": [],
   "source": [
    "#load data\n",
    "inputs, targets = load_data(DATASET_PATH)\n",
    "\n",
    "# split the data into train and test sets\n",
    "X_train, X_test, y_train, y_test = train_test_split(inputs, targets, test_size=0.3)"
   ]
  },
  {
   "cell_type": "markdown",
   "metadata": {},
   "source": [
    "### Flattening and Normalizing Input vectors"
   ]
  },
  {
   "cell_type": "code",
   "execution_count": 3,
   "metadata": {},
   "outputs": [],
   "source": [
    "from sklearn.preprocessing import StandardScaler\n",
    "\n",
    "# Reshape inputs: Inputs have 3 dimensions (0:segments, 1:mfcc windows in each segment, 2:mff vectors)\n",
    "# for each segment we concatenate all mfcc vectors\n",
    "\n",
    "# inputs_train.shape = (699, 130, 13) inputs_train_reshaped.shape = (699, 1690)\n",
    "X_train_reshaped = X_train.reshape(699,1690)\n",
    "# inputs_train.shape = (300, 130, 13) inputs_train_reshaped.shape = (300, 1690)\n",
    "X_test_reshaped = X_test.reshape(300,1690)\n",
    "\n",
    "# normalizing input features\n",
    "X_train = StandardScaler().fit_transform(X_train_reshaped)\n",
    "X_test = StandardScaler().fit_transform(X_test_reshaped)"
   ]
  },
  {
   "cell_type": "markdown",
   "metadata": {},
   "source": [
    "# Kernel methods (https://bloom.bg/2ui2T4q)"
   ]
  },
  {
   "cell_type": "markdown",
   "metadata": {},
   "source": [
    "## Motivation\n",
    "\n",
    "Mapping from an input space $\\chi$ to a vector in $R^d$ is called feature extraction.  \n",
    "Feature mapping is a function of the form $\\psi: \\chi -> R^d$.  \n",
    "To get expressive hypothesis spaces using linear models we need high-dimensional feature spaces. Suppose we start with $x= (1, x_1, ..., x_d) \\in R^{d+1} = \\chi$. Now with our feature mapping $\\psi(x)$ we want all monomials of degree M. Then we will end up with the number of features of $O(d^M)$?. Thus we will get extremely large matrices. Having large feature spaces have two problems, Overfitting (handled by regularization) and memory, computational cost. Kernel methods can (sometimes) help with memory and computational costs.\n",
    "\n",
    "\n",
    "###### Definition\n",
    "\n",
    "A method can be kernalized if inputs appear inside inner products: $\\langle  \\; \\psi(x), \\psi(x') \\; \\rangle$ for $x, x' \\in \\chi$.  \n",
    "The kernel function corresponding to such an inner product is:  \n",
    "\n",
    "$k(x,x') = \\langle  \\; \\psi(x), \\psi(x') \\; \\rangle$.  \n",
    "\n",
    "Kernels as similarity scores: It is often useful to think of the kernel function as a similarity score. The final classifier is a similarity-weighted vote (see section... for details). However this is not a mathematically precise statement.\n",
    "\n",
    "\n",
    "\n",
    "###### Different Kernels\n",
    "\n",
    "###### Linear Kernel\n",
    "\n",
    "Feature map: $\\phi(x)  = x$  \n",
    "Kernel: $k(x, x') = x^Tx'$\n",
    "\n",
    "A linear kernel uses just the original input features. The output of the linear kernel function just gives the standard dot product between two data points $x^Tx'$. As x and x' lie in the original input space,w e don't get acces to a higher dimensional feature space by using a lienar kernel. We are using the original feature space and the kernel function does not has any computational benefits. So if our input vector already lie in high dimensional feature space, such that the data is already seperable with a linear method, I won't get any benefit form using kernel methods.(?)\n",
    "\n",
    "###### Quadratic Kernel\n",
    "\n",
    "Input space $\\chi = R^d$  \n",
    "Feature space: $H = R^D$, where $D = d + \\binom{d}{2} \\approx \\frac{d^2}{2}$.\n",
    "\n",
    "Feature map: \n",
    "\n",
    "$\\psi(x) = (x_1,...,x_d,x^2_1,...x^2_d,\\sqrt{2}x_1x_2,...,\\sqrt{2}x_{d-1}x_d)^T$\n",
    "\n",
    "Then for $\\forall x, x' \\in R^d$\n",
    "\n",
    "$k(x,x') = \\langle  \\; \\psi(x), \\psi(x') \\; \\rangle = \\langle  \\; x, x' \\; \\rangle + \\langle  \\; x, x' \\; \\rangle ^2$\n",
    "\n",
    "Computation for inner product with explicit mapping: $O(d^2)$  \n",
    "Computation for implicit kernel calculation: $O(d)$.\n",
    "\n",
    "Thus with the qudratic kernel function we can evaluate a dot product of feature space that includes all monomials up to degree 2 of the original input space, while computation cost is in the same order as for the original feature space. Notice that we have these extra coefficients ($\\sqrt{2}$) in front of our features. These interact with our regularization. We can use smaller coefficients $w$ to get the same output, such that with regularization these features get favored by the model.\n",
    "\n",
    "###### Polynomial Kernel\n",
    "\n",
    "Input space $\\chi = R^d$  \n",
    "Kernel function:  \n",
    "\n",
    "$k(x,x') = (1 + \\langle  \\; x, x' \\; \\rangle)^M$\n",
    "    \n",
    "Corresponds to a feature map with all monomials up to degree M.  \n",
    "For any M, computing the kernel has same computationsl cost.  \n",
    "Cost of explicit inner product computation grows rapidly in M. \n",
    "\n",
    "###### RBF/Gaussian Kernel\n",
    "\n",
    "Input space $\\chi = R^d$   \n",
    "Kernel function:  \n",
    "\n",
    "$k(x,x') = exp(-\\frac{||x-x'||^2}{2\\sigma^2})$ \n",
    "\n",
    "where $\\sigma^2$ is known as the bandwith parameter. \n",
    "\n",
    "Does it act like a similarity score?:\n",
    "For $x=x'$ the kernel evaluates to 1 and for increasing distance between x and x' the value of the functions gets closer to 0.  \n",
    "Why \"radial\"?: The output is independent of orientation. All x's in the same radius of x get the same similarity score.  \n",
    "For the RBF kernel we have in some sense departed form our \"inner product of feature vector\" recipe. The RBF kernel corresponds to an infinite dimensional feature vector ($\\psi(x)$ has infinite number of dimensions). \n",
    "It is probably the most common nonlinear kernel. \n",
    "How does the kernel function behave if we change $\\sigma^2$?:....see UCSD lecture slides!\n",
    "\n",
    "###### The Kernel trick\n",
    "\n",
    "We can transform certain objektive functions into a kernalized version (see details below). This kernalized objective function contains the kernel matrix.\n",
    "\n",
    "For points $x_1,...,x_n \\in \\chi$ and an inner product $\\langle  \\; .,. \\; \\rangle$ on $\\chi$, the kernel matrix is defined as:  \n",
    "\n",
    "$K = (\\langle  \\; x_i, x_j \\; \\rangle)_{ij} = \\left(\\begin{array}{rrr} \n",
    "\\langle  \\; x_1, x_1 \\; \\rangle & ... & \\langle  \\; x_1, x_n \\; \\rangle \\\\ \n",
    "... & ... & ... \\\\ \n",
    "\\langle  \\; x_n, x_1 \\; \\rangle & ... & \\langle  \\; x_n, x_n \\; \\rangle \\\\ \n",
    "\\end{array}\\right) = XX^T$  \n",
    "\n",
    "which is an $nxn$ matrix. \n",
    "\n",
    "Given a kernalized ML algorithm, we can swap out the kernel function. The new kernel may correspond to a high dimensional feature space. Once the kernel matrix is computed , the computational cost depends only on the number of data points, rather than the dimesnion of the feature space. \n",
    "\n",
    "In ridge regression we deel with a matrix $X^TX$ which is $dxd$. In general you would prefer to work with the smaller matrix. Thus kernel methods are prefered when $n<<d$.\n",
    "\n",
    "Swapping out a linear kernel for a new kernel is called the kernel trick.\n",
    "\n",
    "\n",
    "### How to kernalize an objective function\n",
    "\n",
    "#### Generalized objective function\n",
    "\n",
    "Featurized SVM objective:\n",
    "\n",
    "$min_{w\\in R^d} \\frac{1}{2} ||w||^2 + \\frac{c}{n} \\Sigma_{i=1}^{n} max(0, 1 - y_i[\\langle  \\; w, \\psi(x_i) \\; \\rangle])$\n",
    "\n",
    "Generalized objective:\n",
    "\n",
    "$min_{w\\in H}  R(||w||) + L(\\langle  \\; w, \\psi(x_1) \\; \\rangle, .... , \\langle  \\; w, \\psi(x_n) \\; \\rangle)$,\n",
    "\n",
    "where\n",
    "\n",
    "$R: R^{>=0} -> R$ in nondecreasing (Regularization term)  \n",
    "$L: R^n -> R$ is arbitrary (Loss term)   \n",
    "with Hilbert space $H$, typically $H = R^d$\n",
    "\n",
    "Ridge regression and SVM are of this form.  \n",
    "Lasso regression is not of this form, as $l_1$ does not correspond to an inner product (Why is this important? see section....).\n",
    "\n",
    "#### Representer Theorem\n",
    "\n",
    "Let $min_{w\\in H}  R(||w||) + L(\\langle  \\; w, \\psi(x_1) \\; \\rangle, .... , \\langle  \\; w, \\psi(x_n) \\; \\rangle)$.\n",
    "\n",
    "If J(w) has a minimizer, then it has a minimizer of the form $w^* = \\Sigma_{i=1}^{n} \\alpha_i \\psi(x_i)$. Thus $w^*$ lies in the span of the data; is a linear combination of the featurized input vectors.\n",
    "\n",
    "Proof\n",
    "\n",
    "Let w be a minimizer  \n",
    "Let $M = span(\\langle  \\; w, \\psi(x_1) \\; \\rangle, .... , \\langle  \\; w, \\psi(x_n) \\; \\rangle)$  \n",
    "Let $w^*= Proj_M w$. So $\\exists$ s.t. $w^* = \\Sigma_{i=1}^{n} \\alpha_i \\psi(x_i)$  \n",
    "$w^*$ lives in $R^d$ but it lives also in M, which is a subspace of $R^d$ of dimension n.  \n",
    "$w^{\\bot} := w - w^*$ is orthogonal to M.  \n",
    "Projections decrease norms: $||w^*|| \\leq ||w||$  \n",
    "Since R is nondecreasing, $R(||w^*||) \\leq R(||w||)$  \n",
    "\n",
    "$\\langle  \\; w, \\psi(x_i) \\; \\rangle = \\langle  \\; w^* + w - w^*, \\psi(x_i) \\; \\rangle = \\langle  \\; w^* + w^{\\bot}, \\psi(x_i) \\; \\rangle = \\langle  \\; w^*, \\psi(x_i) \\; \\rangle + \\langle  \\; w^{\\bot}, \\psi(x_i) \\; \\rangle\n",
    "= \\langle  \\; w^*, \\psi(x_i) \\; \\rangle$  \n",
    "\n",
    "So $L(\\langle  \\; w, \\psi(x_i) \\; \\rangle) = L(\\langle  \\; w^*, \\psi(x_i) \\; \\rangle)$  \n",
    "\n",
    "$J(w^*) \\leq J(w)$\n",
    "\n",
    "Therefore $w^* = \\Sigma_{i=1}^{n} \\alpha_i \\psi(x_i)$ is also a minimizer.\n",
    "\n",
    "\n",
    "#### Kernalized predictions\n",
    "\n",
    "Consider $w^* = \\Sigma_{i=1}^{n} \\alpha_i \\psi(x_i)$ (In he following w is used, but I refer to $w^*$ as described in the representer theorem).  \n",
    "\n",
    "How do we make predictions for a given $x \\in \\chi$?  \n",
    "\n",
    "$f(x) = \\langle  \\; w, \\psi(x) \\; \\rangle = \\langle  \\; \\Sigma_{i=1}^{n} \\alpha_i \\psi(x_i), \\psi(x) \\; \\rangle = \\Sigma_{i=1}^{n} \\alpha_i \\langle  \\; \\psi(x_i), \\psi(x) \\; \\rangle = \\Sigma_{i=1}^{n} \\alpha_i k(x_ix)$\n",
    "\n",
    "Predictions on training points $x_1$ to $x_n$:  \n",
    "\n",
    "$ \\left(\\begin{array}{r} \n",
    "f(x_1) \\\\ \n",
    "... \\\\ \n",
    "f(x_n)\\\\ \n",
    "\\end{array}\\right) = \\left(\\begin{array}{r} \n",
    "\\Sigma_{i=1}^{n} \\alpha_i k(x_ix_1) \\\\ \n",
    "... \\\\ \n",
    "\\Sigma_{i=1}^{n} \\alpha_i k(x_ix_n)\\\\ \n",
    "\\end{array}\\right)= \\left(\\begin{array}{r} \n",
    "\\alpha_1k(x_1x_1) + ... + \\alpha_nk(x_1x_n) \\\\ \n",
    "... \\\\ \n",
    "\\alpha_1k(x_nx_1) + ... + \\alpha_nk(x_nx_n)\\\\ \n",
    "\\end{array}\\right) = \\left(\\begin{array}{r} \n",
    "k(x_1x_1) + ... + k(x_1x_n) \\\\ \n",
    "... \\\\ \n",
    "k(x_nx_1) + ... + k(x_nx_n)\\\\ \n",
    "\\end{array}\\right) \\left(\\begin{array}{r} \n",
    "\\alpha_1\\\\ \n",
    "... \\\\ \n",
    "\\alpha_n\\\\ \n",
    "\\end{array}\\right) = K\\alpha$  \n",
    "\n",
    "Note: f(x) is a linear combination of $k(x_1,x),...,k(x_n,x)$, all considered functions of x.  \n",
    "\n",
    "\n",
    "#### Kernalized regularization\n",
    "\n",
    "Consider $w = \\Sigma_{i=1}^{n} \\alpha_i \\psi(x_i)$. What does $R(||w||)$ look like?  \n",
    "\n",
    "$||w||^2 = \\langle  \\; w, w \\; \\rangle = \\langle  \\; \\Sigma_{i=1}^{n} \\alpha_i \\psi(x_i), \\Sigma_{i=1}^{n} \\alpha_i \\psi(x_i) \\; \\rangle = \\Sigma_{i,j=1}^{n} \\alpha_i \\alpha_j \\langle  \\; \\psi(x_i), \\psi(x_j) \\; \\rangle = \\Sigma_{i,j=1}^{n} \\alpha_i \\alpha_j k(x_i,x_j) = \\alpha^TK\\alpha$\n",
    "\n",
    "This is a quadratic form.\n",
    "\n",
    "#### Now we can kernalize some objective functions\n",
    "\n",
    "##### Kernalize SVM\n",
    "\n",
    "The SVM objective:  \n",
    "\n",
    "$min_{w\\in R^d} \\frac{1}{2} ||w||^2 + \\frac{c}{n} \\Sigma_{i=1}^{n} max(0, 1 - y_i[\\langle  \\; w, \\psi(x_i) \\; \\rangle])$\n",
    "\n",
    "Kernelizing yields:\n",
    "\n",
    "$min_{\\alpha\\in R^n} \\frac{1}{2} \\alpha^TK\\alpha + \\frac{c}{n} \\Sigma_{i=1}^{n} max(0, 1 - y_i(K\\alpha)_i)$\n",
    "\n",
    "SVM work very nicely with kernalizations, as many $\\alpha's$ are equal to 0. So not all n datapoints are needed for a prediction.\n",
    "\n",
    "##### Kernalize Ridge Regression\n",
    "\n",
    "Featurized ridge regression\n",
    "\n",
    "$min_{w\\in R^d} \\frac{1}{n} \\Sigma_{i=1}^{n} (\\langle  \\; w, \\psi(x_i) \\; \\rangle - y_i)^2 + \\lambda ||w||^2$\n",
    "\n",
    "Kernalized ridge Regression:\n",
    "\n",
    "$min_{\\alpha\\in R^n} \\frac{1}{n} ||K\\alpha - y||^2 + \\lambda\\alpha^TK\\alpha$"
   ]
  },
  {
   "cell_type": "markdown",
   "metadata": {},
   "source": [
    "## Returning to the classification task\n",
    "Input data:"
   ]
  },
  {
   "cell_type": "code",
   "execution_count": 5,
   "metadata": {},
   "outputs": [
    {
     "data": {
      "text/plain": [
       "(699, 1690)"
      ]
     },
     "execution_count": 5,
     "metadata": {},
     "output_type": "execute_result"
    }
   ],
   "source": [
    "X_train.shape"
   ]
  },
  {
   "cell_type": "markdown",
   "metadata": {},
   "source": [
    "For each 10s segment we had 130 mfcc vectors. After flattening the data we get a 1690 dimensional vector for each of the 699 10s segments. As described above, kernalzing an objective function can give you access to high dimensional feature spaces. For a polynomail kernel of degree 3 for example, the featurized input vector is of order $O(d^3)$. For our 1690 dimensional feature vectors this results in a dimension of the order $10^9$. \n",
    "Is such a large feature space a reasonable choice? Overfitting should not be a problem as long as we use regularization. With such a large feature space we probably can generate a quite expressive model, while the computational cost is reduced by the kernalization, as the number of data points is comparatively very low (see above). SVM's can be kernalized. Also, as many $\\alpha's$ are 0 (this can be seen by optimizing the dual objective of a SVM), such that not all n data points are needed for making predictions. Therefore SVM's with different kernels are used in the following to classify the songs into 10 different genres."
   ]
  },
  {
   "cell_type": "markdown",
   "metadata": {},
   "source": [
    "### SVM with different kernels (linear, poly, rbf) and  flattened mfcc input vectors\n",
    "\n",
    "Using 5 fold Cross Validation to tune C value of SVM"
   ]
  },
  {
   "cell_type": "code",
   "execution_count": 4,
   "metadata": {},
   "outputs": [
    {
     "data": {
      "image/png": "[encoded data removed]",
      "text/plain": [
       "<Figure size 432x288 with 1 Axes>"
      ]
     },
     "metadata": {
      "needs_background": "light"
     },
     "output_type": "display_data"
    },
    {
     "name": "stdout",
     "output_type": "stream",
     "text": [
      "Choice of C:  10.0\n",
      "Cross-validation accuracy score estimate:  0.8498136645962733\n"
     ]
    }
   ],
   "source": [
    "c_values = [0.001,0.01,0.1,1.0,10.0,100.0]\n",
    "\n",
    "acc_scores_rbf = []\n",
    "for c in c_values:\n",
    "    \n",
    "    clf = svm.SVC(C=c, kernel = 'rbf')\n",
    "    scores = cross_val_score(clf, X_train, y_train, cv=10)\n",
    "    m = scores.mean()\n",
    "    acc_scores_rbf.append(m)\n",
    "    \n",
    "index_max = max(range(len(acc_scores_rbf)), key=acc_scores_rbf.__getitem__) # get the index of hyperparameter with max accuracy \n",
    "    \n",
    "plt.plot(c_values, acc_scores_rbf)\n",
    "plt.show()\n",
    "h, s = c_values[index_max], max(acc_scores_rbf)\n",
    "print(\"Choice of C: \", h)\n",
    "print(\"Cross-validation accuracy score estimate: \", s)"
   ]
  },
  {
   "cell_type": "code",
   "execution_count": 19,
   "metadata": {},
   "outputs": [
    {
     "data": {
      "text/plain": [
       "1.0"
      ]
     },
     "execution_count": 19,
     "metadata": {},
     "output_type": "execute_result"
    }
   ],
   "source": [
    "clf_rbf = svm.SVC(C=10, kernel = 'rbf')\n",
    "clf_rbf.fit(X_train, y_train)\n",
    "y_pred = clf_rbf.predict(X_train)\n",
    "metrics.accuracy_score(y_train, y_pred)"
   ]
  },
  {
   "cell_type": "code",
   "execution_count": 20,
   "metadata": {},
   "outputs": [
    {
     "data": {
      "text/plain": [
       "0.8433333333333334"
      ]
     },
     "execution_count": 20,
     "metadata": {},
     "output_type": "execute_result"
    }
   ],
   "source": [
    "y_pred = clf_rbf.predict(X_test)\n",
    "metrics.accuracy_score(y_test, y_pred)"
   ]
  },
  {
   "cell_type": "code",
   "execution_count": 7,
   "metadata": {},
   "outputs": [
    {
     "data": {
      "image/png": "[encoded data removed]",
      "text/plain": [
       "<Figure size 432x288 with 1 Axes>"
      ]
     },
     "metadata": {
      "needs_background": "light"
     },
     "output_type": "display_data"
    },
    {
     "name": "stdout",
     "output_type": "stream",
     "text": [
      "Choice of C:  10.0\n",
      "Cross-validation accuracy score estimate:  0.703874614594039\n"
     ]
    }
   ],
   "source": [
    "c_values = [0.001,0.01,0.1,1.0,10.0,100.0]\n",
    "\n",
    "acc_scores_poly = []\n",
    "for c in c_values:\n",
    "    \n",
    "    clf = svm.SVC(C=c, kernel = 'poly')\n",
    "    scores = cross_val_score(clf, X_train, y_train, cv=5)\n",
    "    m = scores.mean()\n",
    "    acc_scores_poly.append(m)\n",
    "    \n",
    "index_max = max(range(len(acc_scores_poly)), key=acc_scores_poly.__getitem__) # get the index of hyperparameter with max accuracy \n",
    "    \n",
    "plt.plot(c_values, acc_scores_poly)\n",
    "plt.show()\n",
    "h, s = c_values[index_max], max(acc_scores_poly)\n",
    "print(\"Choice of C: \", h)\n",
    "print(\"Cross-validation accuracy score estimate: \", s)"
   ]
  },
  {
   "cell_type": "code",
   "execution_count": 21,
   "metadata": {},
   "outputs": [
    {
     "data": {
      "text/plain": [
       "1.0"
      ]
     },
     "execution_count": 21,
     "metadata": {},
     "output_type": "execute_result"
    }
   ],
   "source": [
    "clf_poly = svm.SVC(C=10, kernel = 'poly')\n",
    "clf_poly.fit(X_train, y_train)\n",
    "y_pred = clf_poly.predict(X_train)\n",
    "metrics.accuracy_score(y_train, y_pred)"
   ]
  },
  {
   "cell_type": "code",
   "execution_count": 22,
   "metadata": {},
   "outputs": [
    {
     "data": {
      "text/plain": [
       "0.72"
      ]
     },
     "execution_count": 22,
     "metadata": {},
     "output_type": "execute_result"
    }
   ],
   "source": [
    "y_pred = clf_poly.predict(X_test)\n",
    "metrics.accuracy_score(y_test, y_pred)"
   ]
  },
  {
   "cell_type": "code",
   "execution_count": 10,
   "metadata": {},
   "outputs": [
    {
     "data": {
      "image/png": "[encoded data removed]",
      "text/plain": [
       "<Figure size 432x288 with 1 Axes>"
      ]
     },
     "metadata": {
      "needs_background": "light"
     },
     "output_type": "display_data"
    },
    {
     "name": "stdout",
     "output_type": "stream",
     "text": [
      "Choice of C:  0.001\n",
      "Cross-validation accuracy score estimate:  0.7925899280575539\n"
     ]
    }
   ],
   "source": [
    "c_values = [0.00001,0.0001,0.001,0.01,0.1,1]\n",
    "\n",
    "acc_scores_linear = []\n",
    "for c in c_values:\n",
    "    \n",
    "    clf = svm.SVC(C=c, kernel = 'linear')\n",
    "    scores = cross_val_score(clf, X_train, y_train, cv=5)\n",
    "    m = scores.mean()\n",
    "    acc_scores_linear.append(m)\n",
    "    \n",
    "index_max = max(range(len(acc_scores_linear)), key=acc_scores_linear.__getitem__) # get the index of hyperparameter with max accuracy \n",
    "    \n",
    "plt.plot(c_values, acc_scores_linear)\n",
    "plt.show()\n",
    "h, s = c_values[index_max], max(acc_scores_linear)\n",
    "print(\"Choice of C: \", h)\n",
    "print(\"Cross-validation accuracy score estimate: \", s)"
   ]
  },
  {
   "cell_type": "code",
   "execution_count": 23,
   "metadata": {},
   "outputs": [
    {
     "data": {
      "text/plain": [
       "0.9628040057224606"
      ]
     },
     "execution_count": 23,
     "metadata": {},
     "output_type": "execute_result"
    }
   ],
   "source": [
    "clf_linear = svm.SVC(C=0.001, kernel = 'linear')\n",
    "clf_linear.fit(X_train, y_train)\n",
    "y_pred = clf_linear.predict(X_train)\n",
    "metrics.accuracy_score(y_train, y_pred)"
   ]
  },
  {
   "cell_type": "code",
   "execution_count": 24,
   "metadata": {},
   "outputs": [
    {
     "data": {
      "text/plain": [
       "0.7766666666666666"
      ]
     },
     "execution_count": 24,
     "metadata": {},
     "output_type": "execute_result"
    }
   ],
   "source": [
    "y_pred = clf_linear.predict(X_test)\n",
    "metrics.accuracy_score(y_test, y_pred)"
   ]
  },
  {
   "cell_type": "markdown",
   "metadata": {},
   "source": [
    "# Neural network (MLP)"
   ]
  },
  {
   "cell_type": "code",
   "execution_count": null,
   "metadata": {},
   "outputs": [
    {
     "name": "stderr",
     "output_type": "stream",
     "text": [
      "/Applications/anaconda3/lib/python3.8/site-packages/sklearn/neural_network/_multilayer_perceptron.py:614: ConvergenceWarning: Stochastic Optimizer: Maximum iterations (200) reached and the optimization hasn't converged yet.\n",
      "  warnings.warn(\n",
      "/Applications/anaconda3/lib/python3.8/site-packages/sklearn/neural_network/_multilayer_perceptron.py:619: UserWarning: Training interrupted by user.\n",
      "  warnings.warn(\"Training interrupted by user.\")\n"
     ]
    }
   ],
   "source": [
    "from sklearn.neural_network import MLPClassifier\n",
    "\n",
    "c_values = [0.001,0.01,0.1,1.0,10.0,100.0]\n",
    "\n",
    "acc_scores_linear = []\n",
    "for c in c_values:\n",
    "    \n",
    "    clf = MLPClassifier(solver='adam', alpha=c,\n",
    "                 hidden_layer_sizes=(512, 256, 64),activation='relu', random_state=1)\n",
    "    scores = cross_val_score(clf, X_train, y_train, cv=5)\n",
    "    m = scores.mean()\n",
    "    acc_scores_linear.append(m)\n",
    "    \n",
    "index_max = max(range(len(acc_scores_linear)), key=acc_scores_linear.__getitem__) # get the index of hyperparameter with max accuracy \n",
    "    \n",
    "plt.plot(c_values, acc_scores_linear)\n",
    "plt.show()\n",
    "h, s = c_values[index_max], max(acc_scores_linear)\n",
    "print(\"Choice of C: \", h)\n",
    "print(\"Cross-validation accuracy score estimate: \", s)"
   ]
  },
  {
   "cell_type": "code",
   "execution_count": 6,
   "metadata": {},
   "outputs": [
    {
     "data": {
      "text/plain": [
       "1e-05"
      ]
     },
     "execution_count": 6,
     "metadata": {},
     "output_type": "execute_result"
    }
   ],
   "source": [
    "1e-5"
   ]
  },
  {
   "cell_type": "code",
   "execution_count": 25,
   "metadata": {},
   "outputs": [
    {
     "data": {
      "text/plain": [
       "MLPClassifier(hidden_layer_sizes=(512, 256, 64), random_state=1)"
      ]
     },
     "execution_count": 25,
     "metadata": {},
     "output_type": "execute_result"
    }
   ],
   "source": [
    "from sklearn.neural_network import MLPClassifier\n",
    "\n",
    "clf_mlp = MLPClassifier(solver='adam', alpha=0.0001,\n",
    "                 hidden_layer_sizes=(512, 256, 64),activation='relu', random_state=1, max_iter = 200)\n",
    "\n",
    "clf_mlp.fit(X_train, y_train)"
   ]
  },
  {
   "cell_type": "code",
   "execution_count": 26,
   "metadata": {},
   "outputs": [
    {
     "data": {
      "text/plain": [
       "1.0"
      ]
     },
     "execution_count": 26,
     "metadata": {},
     "output_type": "execute_result"
    }
   ],
   "source": [
    "y_pred = clf_mlp.predict(X_train)\n",
    "metrics.accuracy_score(y_train, y_pred)"
   ]
  },
  {
   "cell_type": "code",
   "execution_count": 28,
   "metadata": {},
   "outputs": [
    {
     "data": {
      "text/plain": [
       "0.8166666666666667"
      ]
     },
     "execution_count": 28,
     "metadata": {},
     "output_type": "execute_result"
    }
   ],
   "source": [
    "y_pred_mlp = clf_mlp.predict(X_test)\n",
    "metrics.accuracy_score(y_test, y_pred)"
   ]
  },
  {
   "cell_type": "markdown",
   "metadata": {},
   "source": [
    "#### Zero Information baseline model\n",
    "\n"
   ]
  },
  {
   "cell_type": "code",
   "execution_count": 22,
   "metadata": {},
   "outputs": [
    {
     "data": {
      "text/plain": [
       "(array([0, 1, 2, 3, 4, 5, 6, 7, 8, 9]),\n",
       " array([65, 76, 69, 68, 66, 75, 70, 68, 71, 71]))"
      ]
     },
     "execution_count": 22,
     "metadata": {},
     "output_type": "execute_result"
    }
   ],
   "source": [
    "np.unique(y_train, return_counts=True)"
   ]
  },
  {
   "cell_type": "markdown",
   "metadata": {},
   "source": [
    "The second genre seems to be the most frequent genre in the training data set. This is the class we will always predict for the test set."
   ]
  },
  {
   "cell_type": "code",
   "execution_count": 23,
   "metadata": {},
   "outputs": [
    {
     "data": {
      "text/plain": [
       "(array([0, 1, 2, 3, 4, 5, 6, 7, 8, 9]),\n",
       " array([35, 24, 31, 32, 34, 25, 30, 32, 28, 29]))"
      ]
     },
     "execution_count": 23,
     "metadata": {},
     "output_type": "execute_result"
    }
   ],
   "source": [
    "np.unique(y_test, return_counts=True)"
   ]
  },
  {
   "cell_type": "code",
   "execution_count": 24,
   "metadata": {},
   "outputs": [
    {
     "data": {
      "text/plain": [
       "0.08"
      ]
     },
     "execution_count": 24,
     "metadata": {},
     "output_type": "execute_result"
    }
   ],
   "source": [
    "24/len(y_test)"
   ]
  },
  {
   "cell_type": "markdown",
   "metadata": {},
   "source": [
    "The zero information model gets an accuracy of 8% in the test set."
   ]
  },
  {
   "cell_type": "markdown",
   "metadata": {},
   "source": [
    "## Confusion matrix, precision, recall, ROC"
   ]
  },
  {
   "cell_type": "code",
   "execution_count": 29,
   "metadata": {},
   "outputs": [
    {
     "data": {
      "text/plain": [
       "array([[24,  2,  0,  0,  0,  1,  0,  0,  0,  1],\n",
       "       [ 0, 16,  1,  4,  0,  0,  0,  2,  0,  5],\n",
       "       [ 0,  0, 23,  1,  0,  1,  0,  0,  0,  2],\n",
       "       [ 0,  1,  1, 27,  0,  0,  0,  0,  0,  2],\n",
       "       [ 0,  0,  0,  0, 30,  0,  0,  1,  1,  0],\n",
       "       [ 0,  0,  0,  0,  0, 28,  0,  0,  1,  0],\n",
       "       [ 0,  0,  0,  0,  0,  0, 34,  0,  0,  1],\n",
       "       [ 0,  0,  0,  2,  0,  0,  0, 24,  1,  0],\n",
       "       [ 0,  0,  0,  0,  3,  0,  0,  5, 23,  0],\n",
       "       [ 3,  6,  5,  0,  0,  2,  0,  0,  0, 16]])"
      ]
     },
     "execution_count": 29,
     "metadata": {},
     "output_type": "execute_result"
    }
   ],
   "source": [
    "metrics.confusion_matrix(y_test, y_pred_mlp)"
   ]
  },
  {
   "cell_type": "markdown",
   "metadata": {},
   "source": [
    "The row in the confusion matrix corresponds to the true label and the column corresponds to the predicted label. It seems that the genres 2 (Blues) and 10 (Reggae) were hard to separate. The classifier predicted Blues 6 times, when the actual label was Reggae and predicted Reggae 5 times when the actual label was Blues."
   ]
  },
  {
   "cell_type": "markdown",
   "metadata": {},
   "source": [
    "### Precision Recall, ROC curves for multiclass predictions"
   ]
  },
  {
   "cell_type": "code",
   "execution_count": 4,
   "metadata": {},
   "outputs": [],
   "source": [
    "from sklearn.multiclass import OneVsRestClassifier\n",
    "from sklearn.metrics import precision_recall_curve, roc_curve\n",
    "from sklearn.metrics import average_precision_score\n",
    "from sklearn.preprocessing import label_binarize\n",
    "\n",
    "n_classes = 10\n",
    "\n",
    "Y_train = label_binarize(y_train, classes=[*range(n_classes)])\n",
    "Y_test = label_binarize(y_test, classes=[*range(n_classes)])\n",
    "\n",
    "\n",
    "clf = OneVsRestClassifier(MLPClassifier(solver='adam', alpha=0.0001,\n",
    "                 hidden_layer_sizes=(512, 256, 64),activation='relu', random_state=1, max_iter = 200))\n",
    "\n",
    "clf.fit(X_train, Y_train)\n",
    "\n",
    "y_score = clf.predict_proba(X_test)"
   ]
  },
  {
   "cell_type": "markdown",
   "metadata": {},
   "source": [
    "### Plot precision recall curves for the multiclass problem\n",
    "\n",
    "https://scikit-learn.org/stable/auto_examples/model_selection/plot_precision_recall.html"
   ]
  },
  {
   "cell_type": "code",
   "execution_count": 7,
   "metadata": {},
   "outputs": [
    {
     "data": {
      "image/png": "[encoded data removed]",
      "text/plain": [
       "<Figure size 432x288 with 1 Axes>"
      ]
     },
     "metadata": {
      "needs_background": "light"
     },
     "output_type": "display_data"
    }
   ],
   "source": [
    "\n",
    "# precision recall curve\n",
    "precision = dict()\n",
    "recall = dict()\n",
    "average_precision = dict()\n",
    "for i in range(n_classes):\n",
    "    precision[i], recall[i], _ = precision_recall_curve(Y_test[:, i],\n",
    "                                                        y_score[:, i])\n",
    "    \n",
    "    average_precision[i] = average_precision_score(Y_test[:, i], y_score[:, i])\n",
    "\n",
    "    plt.plot(recall[i], precision[i], lw=2, label='class {}'.format(i))\n",
    "    \n",
    "plt.xlabel(\"recall\")\n",
    "plt.ylabel(\"precision\")\n",
    "plt.legend(loc=\"best\")\n",
    "plt.title(\"precision vs. recall curve\")\n",
    "plt.show()\n"
   ]
  },
  {
   "cell_type": "code",
   "execution_count": 8,
   "metadata": {},
   "outputs": [
    {
     "data": {
      "image/png": "[encoded data removed]",
      "text/plain": [
       "<Figure size 432x288 with 1 Axes>"
      ]
     },
     "metadata": {
      "needs_background": "light"
     },
     "output_type": "display_data"
    }
   ],
   "source": [
    "from sklearn.metrics import PrecisionRecallDisplay\n",
    "\n",
    "# A \"micro-average\": quantifying score on all classes jointly\n",
    "precision[\"micro\"], recall[\"micro\"], _ = precision_recall_curve(\n",
    "    Y_test.ravel(), y_score.ravel()\n",
    ")\n",
    "average_precision[\"micro\"] = average_precision_score(Y_test, y_score, average=\"micro\")\n",
    "\n",
    "\n",
    "display = PrecisionRecallDisplay(\n",
    "    recall=recall[\"micro\"],\n",
    "    precision=precision[\"micro\"],\n",
    "    average_precision=average_precision[\"micro\"],\n",
    ")\n",
    "display.plot()\n",
    "_ = display.ax_.set_title(\"Micro-averaged over all classes\")\n"
   ]
  },
  {
   "cell_type": "markdown",
   "metadata": {},
   "source": [
    "AP = Average Precision\n",
    "\n",
    "AP summarizes a precision-recall curve as the weighted mean of precisions achieved at each threshold, with the increase in recall from the previous threshold used as the weight"
   ]
  },
  {
   "cell_type": "markdown",
   "metadata": {},
   "source": [
    "0: \"hiphop\", 1: \"blues\", 2: \"rock\", 3: \"jazz\", 4: \"disco\", 5: \"metal\", 6:\"classical\", 7: \"pop\", 8: \"country\", 9: \"reggae\"\n",
    "\n",
    "The precision recall curves vary quite a lot between different genres. For Metal and Classical music Precision stays very high as the threshold is lowered and Recall is increasing. On the other hand for Reaggea and Blues Precision quickly deteriorates with decreasing threshold. This is in line with the confusion matrix above, which showed difficulties to separate Reggea and Blues."
   ]
  },
  {
   "cell_type": "markdown",
   "metadata": {},
   "source": [
    "### Plot ROC curves for the multiclass problem\n",
    "\n",
    "https://scikit-learn.org/stable/auto_examples/model_selection/plot_roc.html"
   ]
  },
  {
   "cell_type": "code",
   "execution_count": 12,
   "metadata": {},
   "outputs": [
    {
     "data": {
      "image/png": "[encoded data removed]",
      "text/plain": [
       "<Figure size 432x288 with 1 Axes>"
      ]
     },
     "metadata": {
      "needs_background": "light"
     },
     "output_type": "display_data"
    }
   ],
   "source": [
    "from sklearn.metrics import auc\n",
    "\n",
    "# roc curve\n",
    "fpr = dict()\n",
    "tpr = dict()\n",
    "roc_auc = dict()\n",
    "\n",
    "for i in range(n_classes):\n",
    "    fpr[i], tpr[i], _ = roc_curve(Y_test[:, i],\n",
    "                                  y_score[:, i])\n",
    "    roc_auc[i] = auc(fpr[i], tpr[i])\n",
    "    plt.plot(fpr[i], tpr[i], lw=2, label='class {}'.format(i))\n",
    "\n",
    "plt.xlabel(\"false positive rate\")\n",
    "plt.ylabel(\"true positive rate\")\n",
    "plt.legend(loc=\"best\")\n",
    "plt.title(\"ROC curve\")\n",
    "plt.show()"
   ]
  },
  {
   "cell_type": "code",
   "execution_count": 14,
   "metadata": {},
   "outputs": [
    {
     "data": {
      "image/png": "[encoded data removed]",
      "text/plain": [
       "<Figure size 432x288 with 1 Axes>"
      ]
     },
     "metadata": {
      "needs_background": "light"
     },
     "output_type": "display_data"
    }
   ],
   "source": [
    "# Compute micro-average ROC curve and ROC area\n",
    "fpr[\"micro\"], tpr[\"micro\"], _ = roc_curve(Y_test.ravel(), y_score.ravel())\n",
    "roc_auc[\"micro\"] = auc(fpr[\"micro\"], tpr[\"micro\"])\n",
    "\n",
    "# First aggregate all false positive rates\n",
    "all_fpr = np.unique(np.concatenate([fpr[i] for i in range(n_classes)]))\n",
    "\n",
    "# Then interpolate all ROC curves at this points\n",
    "mean_tpr = np.zeros_like(all_fpr)\n",
    "for i in range(n_classes):\n",
    "    mean_tpr += np.interp(all_fpr, fpr[i], tpr[i])\n",
    "\n",
    "# Finally average it and compute AUC\n",
    "mean_tpr /= n_classes\n",
    "\n",
    "fpr[\"macro\"] = all_fpr\n",
    "tpr[\"macro\"] = mean_tpr\n",
    "roc_auc[\"macro\"] = auc(fpr[\"macro\"], tpr[\"macro\"])\n",
    "\n",
    "# Plot all ROC curves\n",
    "plt.figure()\n",
    "plt.plot(\n",
    "    fpr[\"micro\"],\n",
    "    tpr[\"micro\"],\n",
    "    label=\"micro-average ROC curve (area = {0:0.2f})\".format(roc_auc[\"micro\"]),\n",
    "    color=\"deeppink\",\n",
    "    linestyle=\":\",\n",
    "    linewidth=4,\n",
    ")\n",
    "\n",
    "plt.plot(\n",
    "    fpr[\"macro\"],\n",
    "    tpr[\"macro\"],\n",
    "    label=\"macro-average ROC curve (area = {0:0.2f})\".format(roc_auc[\"macro\"]),\n",
    "    color=\"navy\",\n",
    "    linestyle=\":\",\n",
    "    linewidth=4,\n",
    ")\n",
    "\n",
    "plt.plot([0, 1], [0, 1], \"k--\", lw=2)\n",
    "plt.xlim([0.0, 1.0])\n",
    "plt.ylim([0.0, 1.05])\n",
    "plt.xlabel(\"False Positive Rate\")\n",
    "plt.ylabel(\"True Positive Rate\")\n",
    "plt.title(\"Some extension of Receiver operating characteristic to multiclass\")\n",
    "plt.legend(loc=\"lower right\")\n",
    "plt.show()"
   ]
  },
  {
   "cell_type": "markdown",
   "metadata": {},
   "source": [
    "## Comparing average Precision Recall curves between classifiers"
   ]
  },
  {
   "cell_type": "code",
   "execution_count": 20,
   "metadata": {},
   "outputs": [
    {
     "name": "stdout",
     "output_type": "stream",
     "text": [
      "Done with CLF1\n",
      "Done with CLF2\n",
      "Done with CLF3\n",
      "Done with CLF4\n"
     ]
    }
   ],
   "source": [
    "from sklearn.multiclass import OneVsRestClassifier\n",
    "from sklearn.metrics import precision_recall_curve, roc_curve\n",
    "from sklearn.metrics import average_precision_score, PrecisionRecallDisplay\n",
    "from sklearn.preprocessing import label_binarize\n",
    "\n",
    "n_classes = 10\n",
    "\n",
    "Y_train = label_binarize(y_train, classes=[*range(n_classes)])\n",
    "Y_test = label_binarize(y_test, classes=[*range(n_classes)])\n",
    "\n",
    "# Creating One vs Rest Classifier (Is this specail case or default option for SVM?)\n",
    "# MLP\n",
    "clf_mlp = OneVsRestClassifier(MLPClassifier(solver='adam', alpha=0.0001,\n",
    "                 hidden_layer_sizes=(512, 256, 64),activation='relu', random_state=1, max_iter = 200))\n",
    "\n",
    "clf_mlp.fit(X_train, Y_train)\n",
    "\n",
    "y_score_mlp = clf_mlp.predict_proba(X_test)\n",
    "\n",
    "print(\"Done with CLF1\")\n",
    "\n",
    "#Poly SVM\n",
    "clf_poly = OneVsRestClassifier(svm.SVC(C=10, kernel = 'poly'))\n",
    "\n",
    "clf_poly.fit(X_train, Y_train)\n",
    "\n",
    "y_score_poly = clf_poly.decision_function(X_test)\n",
    "\n",
    "print(\"Done with CLF2\")\n",
    "\n",
    "#Rbf SVM\n",
    "\n",
    "clf_rbf = OneVsRestClassifier(svm.SVC(C=10, kernel = 'rbf'))\n",
    "\n",
    "clf_rbf.fit(X_train, Y_train)\n",
    "\n",
    "y_score_rbf = clf_rbf.decision_function(X_test)\n",
    "\n",
    "print(\"Done with CLF3\")\n",
    "\n",
    "#Linear SVM\n",
    "\n",
    "clf_linear = OneVsRestClassifier(svm.SVC(C=0.001, kernel = 'linear'))\n",
    "\n",
    "clf_linear.fit(X_train, Y_train)\n",
    "\n",
    "y_score_linear = clf_linear.decision_function(X_test)\n",
    "\n",
    "print(\"Done with CLF4\")"
   ]
  },
  {
   "cell_type": "code",
   "execution_count": 28,
   "metadata": {},
   "outputs": [
    {
     "data": {
      "image/png": "[encoded data removed]",
      "text/plain": [
       "<Figure size 432x288 with 1 Axes>"
      ]
     },
     "metadata": {
      "needs_background": "light"
     },
     "output_type": "display_data"
    },
    {
     "name": "stdout",
     "output_type": "stream",
     "text": [
      "AP-MLP = 0.8975620231845116\n",
      "AP-Poly = 0.7822079922025026\n",
      "AP-RBF = 0.8974509037613123\n",
      "AP-Linear = 0.7524831870820686\n"
     ]
    }
   ],
   "source": [
    "# Average precision recall curves of all 4 classifiers\n",
    "\n",
    "clf_names = [\"MLP\", \"Poly(3) SVM\", \"RBF SVM\", \"Linear SVM\"]\n",
    "clf_scores = [y_score_mlp, y_score_poly, y_score_rbf, y_score_linear]\n",
    "precision = dict()\n",
    "recall = dict()\n",
    "average_precision = dict()\n",
    "\n",
    "for i in range(4):\n",
    "    # A \"micro-average\": quantifying score on all classes jointly\n",
    "    precision[\"micro\" + str(i)], recall[\"micro\" + str(i)], _ = precision_recall_curve(Y_test.ravel(), clf_scores[i].ravel())\n",
    "    \n",
    "    average_precision[\"micro\" + str(i)] = average_precision_score(Y_test, clf_scores[i], average=\"micro\")\n",
    "\n",
    "    plt.plot(recall[\"micro\" + str(i)], precision[\"micro\" + str(i)], lw=2, label='clf {}'.format(clf_names[i]))\n",
    "\n",
    "\n",
    "plt.xlabel(\"recall\")\n",
    "plt.ylabel(\"precision\")\n",
    "plt.legend(loc=\"best\")\n",
    "plt.title(\"precision vs. recall curve\")\n",
    "plt.show()\n",
    "\n",
    "print(\"AP-MLP = \" + str(average_precision[\"micro\" + str(0)]))\n",
    "print(\"AP-Poly = \" + str(average_precision[\"micro\" + str(1)]))\n",
    "print(\"AP-RBF = \" + str(average_precision[\"micro\" + str(2)]))\n",
    "print(\"AP-Linear = \" + str(average_precision[\"micro\" + str(3)]))"
   ]
  },
  {
   "cell_type": "markdown",
   "metadata": {},
   "source": [
    "Performance on training set:\n",
    "\n",
    "Not surprisingly the more complex the model (in terms of the size of the feature space and using higher order monomials), the higher the accuracy is on the training data. For the rbf and the poly kernel we get 100% accuracy and for the linear model still around 97%.\n",
    "\n",
    "Performance on test set:\n",
    "\n",
    "Highest accuracy is obtained with the rbf kernel. This is again not surprising to me, as this kernel gives access to an infinite feature space. Also with the reagularization term, overfitting should not be an issue.\n",
    "\n",
    "Interestingely the linear model performs better on the test set than using the poly kernel of degree 3. \n",
    "Polynomial decision boundaries are more expressive then linear decision boundaries. Still the linear decision bundary could be closer to the true decision boundary, thus performing better on the test set.\n",
    "Also, we don't have a lot training points, maybe with more data the polynomial boundary would perform better. \n",
    "\n",
    "All three models perform way better than a 0 information baseline model. Its surprising that genres can be seperated so well just based on spectral information of the soundfiles. "
   ]
  },
  {
   "cell_type": "code",
   "execution_count": 15,
   "metadata": {},
   "outputs": [
    {
     "data": {
      "text/plain": [
       "0.16666666666666666"
      ]
     },
     "execution_count": 15,
     "metadata": {},
     "output_type": "execute_result"
    }
   ],
   "source": [
    "clf = svm.SVC(C=0.1, kernel = 'poly')\n",
    "clf.fit(X_train, y_train)\n",
    "y_pred = clf.predict(X_test)\n",
    "metrics.accuracy_score(y_test, y_pred)"
   ]
  },
  {
   "cell_type": "code",
   "execution_count": 21,
   "metadata": {},
   "outputs": [
    {
     "data": {
      "text/plain": [
       "(array([0, 1, 2, 3, 4, 5, 6, 7, 8, 9]),\n",
       " array([65, 76, 69, 68, 66, 75, 70, 68, 71, 71]))"
      ]
     },
     "execution_count": 21,
     "metadata": {},
     "output_type": "execute_result"
    }
   ],
   "source": [
    "np.unique(y_train, return_counts=True)"
   ]
  },
  {
   "cell_type": "code",
   "execution_count": 17,
   "metadata": {},
   "outputs": [
    {
     "data": {
      "text/plain": [
       "array([1, 7, 5, 2, 6, 8, 0, 3, 4, 6, 4, 9, 1, 5, 9, 5, 1, 7, 7, 6, 5, 6,\n",
       "       6, 2, 0, 8, 2, 1, 0, 0, 6, 4, 7, 0, 8, 0, 9, 2, 4, 1, 8, 4, 8, 0,\n",
       "       3, 0, 5, 6, 2, 2, 5, 3, 7, 6, 9, 5, 0, 9, 3, 2, 4, 8, 0, 7, 0, 0,\n",
       "       9, 7, 6, 2, 5, 7, 9, 8, 0, 8, 9, 1, 2, 4, 3, 8, 3, 9, 3, 2, 6, 7,\n",
       "       4, 8, 5, 8, 2, 6, 9, 3, 7, 1, 9, 5, 8, 0, 2, 3, 6, 0, 7, 6, 4, 1,\n",
       "       4, 9, 8, 4, 4, 2, 9, 3, 3, 3, 2, 0, 2, 4, 3, 7, 3, 5, 6, 4, 4, 6,\n",
       "       5, 2, 8, 4, 6, 6, 7, 7, 8, 7, 4, 0, 1, 6, 4, 3, 9, 3, 6, 5, 0, 8,\n",
       "       0, 3, 4, 7, 6, 5, 4, 0, 6, 1, 9, 6, 9, 2, 9, 3, 4, 9, 2, 0, 5, 7,\n",
       "       5, 2, 3, 4, 0, 9, 7, 2, 0, 4, 2, 9, 5, 8, 1, 8, 5, 7, 3, 0, 1, 0,\n",
       "       3, 6, 7, 0, 8, 7, 4, 7, 2, 6, 1, 8, 0, 0, 7, 6, 9, 7, 5, 7, 4, 9,\n",
       "       7, 3, 9, 6, 0, 1, 7, 4, 3, 3, 8, 1, 3, 7, 0, 9, 3, 3, 0, 9, 2, 1,\n",
       "       4, 5, 6, 2, 1, 2, 5, 1, 5, 9, 0, 7, 3, 2, 3, 3, 2, 5, 0, 9, 8, 5,\n",
       "       4, 4, 2, 4, 8, 4, 0, 4, 8, 9, 7, 2, 0, 8, 6, 2, 7, 3, 6, 9, 1, 1,\n",
       "       1, 8, 3, 1, 1, 1, 5, 6, 7, 8, 2, 8, 4, 4])"
      ]
     },
     "execution_count": 17,
     "metadata": {},
     "output_type": "execute_result"
    }
   ],
   "source": [
    "y_test"
   ]
  },
  {
   "cell_type": "code",
   "execution_count": null,
   "metadata": {},
   "outputs": [],
   "source": []
  }
 ],
 "metadata": {
  "colab": {
   "authorship_tag": "ABX9TyOcmHtlJiw0iBh08iZKWaxr",
   "collapsed_sections": [],
   "include_colab_link": true,
   "mount_file_id": "1nfoUnuQctT7dUUB7t4If4MLrhbcULL6t",
   "provenance": []
  },
  "kernelspec": {
   "display_name": "Python 3",
   "language": "python",
   "name": "python3"
  },
  "language_info": {
   "codemirror_mode": {
    "name": "ipython",
    "version": 3
   },
   "file_extension": ".py",
   "mimetype": "text/x-python",
   "name": "python",
   "nbconvert_exporter": "python",
   "pygments_lexer": "ipython3",
   "version": "3.8.3"
  }
 },
 "nbformat": 4,
 "nbformat_minor": 1
}
