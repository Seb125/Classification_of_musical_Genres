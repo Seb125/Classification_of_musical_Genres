{
 "cells": [
  {
   "cell_type": "markdown",
   "metadata": {
    "colab_type": "text",
    "id": "view-in-github"
   },
   "source": [
    "<a href=\"https://colab.research.google.com/github/Seb125/MFCC_Genres/blob/main/Genres.ipynb\" target=\"_parent\"><img src=\"https://colab.research.google.com/assets/colab-badge.svg\" alt=\"Open In Colab\"/></a>"
   ]
  },
  {
   "cell_type": "markdown",
   "metadata": {},
   "source": [
    "## Feature engeneering: Calculating mfcc's for each audio file"
   ]
  },
  {
   "cell_type": "code",
   "execution_count": null,
   "metadata": {},
   "outputs": [],
   "source": [
    "import os\n",
    "import librosa\n",
    "import math\n",
    "import json\n",
    "\n",
    "DATASET_PATH = \"Genres\"\n",
    "JSON_PATH = \"data.json\"\n",
    "\n",
    "SAMPLE_RATE = 22050\n",
    "DURATION = 30 # measured in seconds\n",
    "SAMPLES_PER_TRACK = SAMPLE_RATE * DURATION\n",
    "\n",
    "\n",
    "# json_path: path to the file where we store all mfccs and the labels\n",
    "# each track is chopped into 10 segments\n",
    "\n",
    "def save_mfcc(dataset_path, json_path, n_mfcc=13, n_fft=2048, hop_length=512, num_segments=10):\n",
    "    \n",
    "    # dictionary to store data\n",
    "    data = {\n",
    "      \"mapping\": [], # classical is mapped to indice 0\n",
    "      \"mfcc\": [], # mfccs for each segment\n",
    "      \"labels\":[]  # target (first segment is classical, second, classical....)\n",
    "\n",
    "    }\n",
    "    \n",
    "    num_samples_per_segment = int(SAMPLES_PER_TRACK / num_segments)\n",
    "    expected_num_mfcc_vectors_per_segment = math.ceil(num_samples_per_segment / hop_length)\n",
    "    \n",
    "    # loop through all the genres\n",
    "    for i, (dirpath, dirnames, filenames) in enumerate(os.walk(dataset_path)):\n",
    "        # esnure that we're not at the root/dataset level\n",
    "        if dirpath is not dataset_path:   #dirpath gives path of current directory\n",
    "            \n",
    "            # save the semantic label\n",
    "            dirpath_components = dirpath.split(\"/\") # genre/blues => [\"genre\", \"blues\"]\n",
    "            semantic_label = dirpath_components[-1]  # last entry of dirpath_components\n",
    "            data[\"mapping\"].append(semantic_label)\n",
    "            print(\"\\nProcessing {}\".format(semantic_label))\n",
    "\n",
    "            # process files for a specific genre\n",
    "            for f in filenames:\n",
    "                \n",
    "                #load audio file\n",
    "                file_path = os.path.join(dirpath, f)\n",
    "                print(file_path)\n",
    "                signal, sr = librosa.load(file_path, sr=SAMPLE_RATE)\n",
    "                \n",
    "                # process segments extracting mfcc and storing data\n",
    "                for s in range(num_segments):\n",
    "                    start_sample = num_samples_per_segment * s # s = 0 -> 0\n",
    "                    finish_sample = start_sample + num_samples_per_segment # s = 0 -> num_samples_per_segment\n",
    "\n",
    "          \n",
    "                    mfcc = librosa.feature.mfcc(signal[start_sample:finish_sample],\n",
    "                                                      sr=sr,\n",
    "                                                      n_fft=n_fft,\n",
    "                                                      n_mfcc=n_mfcc,\n",
    "                                                      hop_length=hop_length)\n",
    "                    \n",
    "                    mfcc = mfcc.T  # transpose -> mfcc vectors are columns\n",
    "                    \n",
    "                    \n",
    "                    # store mfcc for segment if it has the expected length\n",
    "                    if len(mfcc) == expected_num_mfcc_vectors_per_segment:\n",
    "                        data[\"mfcc\"].append(mfcc.tolist())\n",
    "                        data[\"labels\"].append(i-1) # cause the first iteration is at the root level\n",
    "                        print(\"{}, segment:{}\".format(file_path, s))\n",
    "   \n",
    "    with open(json_path, \"w\") as fp:\n",
    "        json.dump(data, fp, indent=4)\n",
    "\n",
    "if __name__ == \"__main__\":\n",
    "    save_mfcc(DATASET_PATH, JSON_PATH, num_segments=10)"
   ]
  },
  {
   "cell_type": "markdown",
   "metadata": {},
   "source": [
    "## Trying different classifiers (MLP, SVM, KNN) on the flattened feature vectors"
   ]
  },
  {
   "cell_type": "code",
   "execution_count": 44,
   "metadata": {},
   "outputs": [],
   "source": [
    "import json\n",
    "import os\n",
    "import numpy as np\n",
    "from sklearn.model_selection import train_test_split\n",
    "import matplotlib.pyplot as plt\n",
    "from sklearn import svm, metrics\n",
    "from sklearn.neural_network import MLPClassifier\n",
    "from sklearn.model_selection import cross_val_score\n",
    "\n",
    "\n",
    "DATASET_PATH = \"data10.json\"\n",
    "\n",
    "def load_data(dataset_path):\n",
    "    with open(dataset_path, \"r\") as fp: # r = read\n",
    "        data = json.load(fp)\n",
    "        \n",
    "    # convert lists into numpy arrays\n",
    "    inputs = np.array(data[\"mfcc\"])\n",
    "    targets = np.array(data[\"labels\"])\n",
    "\n",
    "    return inputs, targets\n"
   ]
  },
  {
   "cell_type": "code",
   "execution_count": 45,
   "metadata": {},
   "outputs": [],
   "source": [
    "#load data\n",
    "inputs, targets = load_data(DATASET_PATH)\n",
    "\n",
    "# split the data into train and test sets\n",
    "X_train, X_test, y_train, y_test = train_test_split(inputs, targets, test_size=0.3)"
   ]
  },
  {
   "cell_type": "markdown",
   "metadata": {},
   "source": [
    "### Flattening and Normalizing Input vectors"
   ]
  },
  {
   "cell_type": "code",
   "execution_count": 46,
   "metadata": {},
   "outputs": [],
   "source": [
    "from sklearn.preprocessing import StandardScaler\n",
    "\n",
    "# Reshape inputs: Inputs have 3 dimensions (0:segments, 1:mfcc windows in each segment, 2:mff vectors)\n",
    "# for each segment we concatenate all mfcc vectors\n",
    "\n",
    "# inputs_train.shape = (699, 130, 13) inputs_train_reshaped.shape = (699, 1690)\n",
    "X_train_reshaped = X_train.reshape(699,1690)\n",
    "# inputs_train.shape = (300, 130, 13) inputs_train_reshaped.shape = (300, 1690)\n",
    "X_test_reshaped = X_test.reshape(300,1690)\n",
    "\n",
    "# normalizing input features\n",
    "X_train = StandardScaler().fit_transform(X_train_reshaped)\n",
    "X_test = StandardScaler().fit_transform(X_test_reshaped)"
   ]
  },
  {
   "cell_type": "markdown",
   "metadata": {},
   "source": [
    "Our input vectors live in $R^{1690}$, which is quite high dimensional compared to the number of samples (900). This is a scenario where kernel methods are of great use. "
   ]
  },
  {
   "cell_type": "markdown",
   "metadata": {},
   "source": [
    "# Kernel methods (https://bloom.bg/2ui2T4q)"
   ]
  },
  {
   "cell_type": "markdown",
   "metadata": {},
   "source": [
    "## Motivation\n",
    "\n",
    "Mapping from an input space $\\chi$ to a vector in $R^d$ is called feature extraction.  \n",
    "Feature mapping is a function of the form $\\psi: \\chi -> R^d$.  \n",
    "To get expressive hypothesis spaces using linear models we need high-dimensional feature spaces. Suppose we start with $x= (1, x_1, ..., x_d) \\in R^{d+1} = \\chi$. Now with our feature mapping $\\psi(x)$ we want all monomials of degree M. Then we will end up with the number of features of $O(d^M)$?. Thus we will get extremely large matrices. Having large feature spaces have two problems, Overfitting (handled by regularization) and memory, computational cost. Kernel methods can (sometimes) help with memory and computational costs.\n",
    "\n",
    "\n",
    "###### Definition\n",
    "\n",
    "A method can be kernalized if inputs appear inside inner products: $\\langle  \\; \\psi(x), \\psi(x') \\; \\rangle$ for $x, x' \\in \\chi$.  \n",
    "The kernel function corresponding to such an inner product is:  \n",
    "\n",
    "$k(x,x') = \\langle  \\; \\psi(x), \\psi(x') \\; \\rangle$.  \n",
    "\n",
    "Kernels as similarity scores: It is often useful to think of the kernel function as a similarity score. The final classifier is a similarity-weighted vote (see section... for details). However this is not a mathematically precise statement.\n",
    "\n",
    "\n",
    "\n",
    "###### Different Kernels\n",
    "\n",
    "###### Linear Kernel\n",
    "\n",
    "Feature map: $\\phi(x)  = x$  \n",
    "Kernel: $k(x, x') = x^Tx'$\n",
    "\n",
    "A linear kernel uses just the original input features. The output of the linear kernel function just gives the standard dot product between two data points $x^Tx'$. As x and x' lie in the original input space,w e don't get acces to a higher dimensional feature space by using a lienar kernel. We are using the original feature space and the kernel function does not has any computational benefits. So if our input vector already lie in high dimensional feature space, such that the data is already seperable with a linear method, I won't get any benefit form using kernel methods.(?)\n",
    "\n",
    "###### Quadratic Kernel\n",
    "\n",
    "Input space $\\chi = R^d$  \n",
    "Feature space: $H = R^D$, where $D = d + \\binom{d}{2} \\approx \\frac{d^2}{2}$.\n",
    "\n",
    "Feature map: \n",
    "\n",
    "$\\psi(x) = (x_1,...,x_d,x^2_1,...x^2_d,\\sqrt{2}x_1x_2,...,\\sqrt{2}x_{d-1}x_d)^T$\n",
    "\n",
    "Then for $\\forall x, x' \\in R^d$\n",
    "\n",
    "$k(x,x') = \\langle  \\; \\psi(x), \\psi(x') \\; \\rangle = \\langle  \\; x, x' \\; \\rangle + \\langle  \\; x, x' \\; \\rangle ^2$\n",
    "\n",
    "Computation for inner product with explicit mapping: $O(d^2)$  \n",
    "Computation for implicit kernel calculation: $O(d)$.\n",
    "\n",
    "Thus with the qudratic kernel function we can evaluate a dot product of feature space that includes all monomials up to degree 2 of the original input space, while computation cost is in the same order as for the original feature space. Notice that we have these extra coefficients ($\\sqrt{2}$) in front of our features. These interact with our regularization. We can use smaller coefficients $w$ to get the same output, such that with regularization these features get favored by the model.\n",
    "\n",
    "###### Polynomial Kernel\n",
    "\n",
    "Input space $\\chi = R^d$  \n",
    "Kernel function:  \n",
    "\n",
    "$k(x,x') = (1 + \\langle  \\; x, x' \\; \\rangle)^M$\n",
    "    \n",
    "Corresponds to a feature map with all monomials up to degree M.  \n",
    "For any M, computing the kernel has same computationsl cost.  \n",
    "Cost of explicit inner product computation grows rapidly in M. \n",
    "\n",
    "###### RBF/Gaussian Kernel\n",
    "\n",
    "Input space $\\chi = R^d$   \n",
    "Kernel function:  \n",
    "\n",
    "$k(x,x') = exp(-\\frac{||x-x'||^2}{2\\sigma^2})$ \n",
    "\n",
    "where $\\sigma^2$ is known as the bandwith parameter. \n",
    "\n",
    "Does it act like a similarity score?:\n",
    "For $x=x'$ the kernel evaluates to 1 and for increasing distance between x and x' the value of the functions gets closer to 0.  \n",
    "Why \"radial\"?: The output is independent of orientation. All x's in the same radius of x get the same similarity score.  \n",
    "For the RBF kernel we have in some sense departed form our \"inner product of feature vector\" recipe. The RBF kernel corresponds to an infinite dimensional feature vector ($\\psi(x)$ has infinite number of dimensions). \n",
    "It is probably the most common nonlinear kernel. \n",
    "How does the kernel function behave if we change $\\sigma^2$?:....see UCSD lecture slides!\n",
    "\n",
    "###### The Kernel trick\n",
    "\n",
    "We can transform certain objektive functions into a kernalized version (see details below). This kernalized objective function contains the kernel matrix.\n",
    "\n",
    "For points $x_1,...,x_n \\in \\chi$ and an inner product $\\langle  \\; .,. \\; \\rangle$ on $\\chi$, the kernel matrix is defined as:  \n",
    "\n",
    "$K = (\\langle  \\; x_i, x_j \\; \\rangle)_{ij} = \\left(\\begin{array}{rrr} \n",
    "\\langle  \\; x_1, x_1 \\; \\rangle & ... & \\langle  \\; x_1, x_n \\; \\rangle \\\\ \n",
    "... & ... & ... \\\\ \n",
    "\\langle  \\; x_n, x_1 \\; \\rangle & ... & \\langle  \\; x_n, x_n \\; \\rangle \\\\ \n",
    "\\end{array}\\right) = XX^T$  \n",
    "\n",
    "which is an $nxn$ matrix. \n",
    "\n",
    "Given a kernalized ML algorithm, we can swap out the kernel function. The new kernel may correspond to a high dimensional feature space. Once the kernel matrix is computed , the computational cost depends only on the number of data points, rather than the dimesnion of the feature space. \n",
    "\n",
    "In ridge regression we deel with a matrix $X^TX$ which is $dxd$. In general you would prefer to work with the smaller matrix. Thus kernel methods are prefered when $n<<d$.\n",
    "\n",
    "Swapping out a linear kernel for a new kernel is called the kernel trick.\n",
    "\n",
    "\n",
    "### How to kernalize an objective function\n",
    "\n",
    "#### Generalized objective function\n",
    "\n",
    "Featurized SVM objective:\n",
    "\n",
    "$min_{w\\in R^d} \\frac{1}{2} ||w||^2 + \\frac{c}{n} \\Sigma_{i=1}^{n} max(0, 1 - y_i[\\langle  \\; w, \\psi(x_i) \\; \\rangle])$\n",
    "\n",
    "Generalized objective:\n",
    "\n",
    "$min_{w\\in H}  R(||w||) + L(\\langle  \\; w, \\psi(x_1) \\; \\rangle, .... , \\langle  \\; w, \\psi(x_n) \\; \\rangle)$,\n",
    "\n",
    "where\n",
    "\n",
    "$R: R^{>=0} -> R$ in nondecreasing (Regularization term)  \n",
    "$L: R^n -> R$ is arbitrary (Loss term)   \n",
    "with Hilbert space $H$, typically $H = R^d$\n",
    "\n",
    "Ridge regression and SVM are of this form.  \n",
    "Lasso regression is not of this form, as $l_1$ does not correspond to an inner product (Why is this important? see section....).\n",
    "\n",
    "#### Representer Theorem\n",
    "\n",
    "Let $min_{w\\in H}  R(||w||) + L(\\langle  \\; w, \\psi(x_1) \\; \\rangle, .... , \\langle  \\; w, \\psi(x_n) \\; \\rangle)$.\n",
    "\n",
    "If J(w) has a minimizer, then it has a minimizer of the form $w^* = \\Sigma_{i=1}^{n} \\alpha_i \\psi(x_i)$. Thus $w^*$ lies in the span of the data; is a linear combination of the featurized input vectors.\n",
    "\n",
    "Proof\n",
    "\n",
    "Let w be a minimizer  \n",
    "Let $M = span(\\langle  \\; w, \\psi(x_1) \\; \\rangle, .... , \\langle  \\; w, \\psi(x_n) \\; \\rangle)$  \n",
    "Let $w^*= Proj_M w$. So $\\exists$ s.t. $w^* = \\Sigma_{i=1}^{n} \\alpha_i \\psi(x_i)$  \n",
    "$w^*$ lives in $R^d$ but it lives also in M, which is a subspace of $R^d$ of dimension n.  \n",
    "$w^{\\bot} := w - w^*$ is orthogonal to M.  \n",
    "Projections decrease norms: $||w^*|| \\leq ||w||$  \n",
    "Since R is nondecreasing, $R(||w^*||) \\leq R(||w||)$  \n",
    "\n",
    "$\\langle  \\; w, \\psi(x_i) \\; \\rangle = \\langle  \\; w^* + w - w^*, \\psi(x_i) \\; \\rangle = \\langle  \\; w^* + w^{\\bot}, \\psi(x_i) \\; \\rangle = \\langle  \\; w^*, \\psi(x_i) \\; \\rangle + \\langle  \\; w^{\\bot}, \\psi(x_i) \\; \\rangle\n",
    "= \\langle  \\; w^*, \\psi(x_i) \\; \\rangle$  \n",
    "\n",
    "So $L(\\langle  \\; w, \\psi(x_i) \\; \\rangle) = L(\\langle  \\; w^*, \\psi(x_i) \\; \\rangle)$  \n",
    "\n",
    "$J(w^*) \\leq J(w)$\n",
    "\n",
    "Therefore $w^* = \\Sigma_{i=1}^{n} \\alpha_i \\psi(x_i)$ is also a minimizer.\n",
    "\n",
    "\n",
    "#### Kernalized predictions\n",
    "\n",
    "Consider $w^* = \\Sigma_{i=1}^{n} \\alpha_i \\psi(x_i)$ (In he following w is used, but I refer to $w^*$ as described in the representer theorem).  \n",
    "\n",
    "How do we make predictions for a given $x \\in \\chi$?  \n",
    "\n",
    "$f(x) = \\langle  \\; w, \\psi(x) \\; \\rangle = \\langle  \\; \\Sigma_{i=1}^{n} \\alpha_i \\psi(x_i), \\psi(x) \\; \\rangle = \\Sigma_{i=1}^{n} \\alpha_i \\langle  \\; \\psi(x_i), \\psi(x) \\; \\rangle = \\Sigma_{i=1}^{n} \\alpha_i k(x_ix)$\n",
    "\n",
    "Predictions on training points $x_1$ to $x_n$:  \n",
    "\n",
    "$ \\left(\\begin{array}{r} \n",
    "f(x_1) \\\\ \n",
    "... \\\\ \n",
    "f(x_n)\\\\ \n",
    "\\end{array}\\right) = \\left(\\begin{array}{r} \n",
    "\\Sigma_{i=1}^{n} \\alpha_i k(x_ix_1) \\\\ \n",
    "... \\\\ \n",
    "\\Sigma_{i=1}^{n} \\alpha_i k(x_ix_n)\\\\ \n",
    "\\end{array}\\right)= \\left(\\begin{array}{r} \n",
    "\\alpha_1k(x_1x_1) + ... + \\alpha_nk(x_1x_n) \\\\ \n",
    "... \\\\ \n",
    "\\alpha_1k(x_nx_1) + ... + \\alpha_nk(x_nx_n)\\\\ \n",
    "\\end{array}\\right) = \\left(\\begin{array}{r} \n",
    "k(x_1x_1) + ... + k(x_1x_n) \\\\ \n",
    "... \\\\ \n",
    "k(x_nx_1) + ... + k(x_nx_n)\\\\ \n",
    "\\end{array}\\right) \\left(\\begin{array}{r} \n",
    "\\alpha_1\\\\ \n",
    "... \\\\ \n",
    "\\alpha_n\\\\ \n",
    "\\end{array}\\right) = K\\alpha$  \n",
    "\n",
    "Note: f(x) is a linear combination of $k(x_1,x),...,k(x_n,x)$, all considered functions of x.  \n",
    "\n",
    "\n",
    "#### Kernalized regularization\n",
    "\n",
    "Consider $w = \\Sigma_{i=1}^{n} \\alpha_i \\psi(x_i)$. What does $R(||w||)$ look like?  \n",
    "\n",
    "$||w||^2 = \\langle  \\; w, w \\; \\rangle = \\langle  \\; \\Sigma_{i=1}^{n} \\alpha_i \\psi(x_i), \\Sigma_{i=1}^{n} \\alpha_i \\psi(x_i) \\; \\rangle = \\Sigma_{i,j=1}^{n} \\alpha_i \\alpha_j \\langle  \\; \\psi(x_i), \\psi(x_j) \\; \\rangle = \\Sigma_{i,j=1}^{n} \\alpha_i \\alpha_j k(x_i,x_j) = \\alpha^TK\\alpha$\n",
    "\n",
    "This is a quadratic form.\n",
    "\n",
    "#### Now we can kernalize some objective functions\n",
    "\n",
    "##### Kernalize SVM\n",
    "\n",
    "The SVM objective:  \n",
    "\n",
    "$min_{w\\in R^d} \\frac{1}{2} ||w||^2 + \\frac{c}{n} \\Sigma_{i=1}^{n} max(0, 1 - y_i[\\langle  \\; w, \\psi(x_i) \\; \\rangle])$\n",
    "\n",
    "Kernelizing yields:\n",
    "\n",
    "$min_{\\alpha\\in R^n} \\frac{1}{2} \\alpha^TK\\alpha + \\frac{c}{n} \\Sigma_{i=1}^{n} max(0, 1 - y_i(K\\alpha)_i)$\n",
    "\n",
    "SVM work very nicely with kernalizations, as many $\\alpha's$ are equal to 0. So not all n datapoints are needed for a prediction.\n",
    "\n",
    "##### Kernalize Ridge Regression\n",
    "\n",
    "Featurized ridge regression\n",
    "\n",
    "$min_{w\\in R^d} \\frac{1}{n} \\Sigma_{i=1}^{n} (\\langle  \\; w, \\psi(x_i) \\; \\rangle - y_i)^2 + \\lambda ||w||^2$\n",
    "\n",
    "Kernalized ridge Regression:\n",
    "\n",
    "$min_{\\alpha\\in R^n} \\frac{1}{n} ||K\\alpha - y||^2 + \\lambda\\alpha^TK\\alpha$"
   ]
  },
  {
   "cell_type": "code",
   "execution_count": null,
   "metadata": {},
   "outputs": [],
   "source": []
  },
  {
   "cell_type": "markdown",
   "metadata": {},
   "source": [
    "### SVM with different kernels (linear, poly, rbf) and  flattened mfcc input vectors\n",
    "\n",
    "Using 5 fold Cross Validation to tune C value of SVM"
   ]
  },
  {
   "cell_type": "code",
   "execution_count": 48,
   "metadata": {},
   "outputs": [
    {
     "data": {
      "image/png": "[encoded data removed]",
      "text/plain": [
       "<Figure size 432x288 with 1 Axes>"
      ]
     },
     "metadata": {
      "needs_background": "light"
     },
     "output_type": "display_data"
    },
    {
     "name": "stdout",
     "output_type": "stream",
     "text": [
      "Choice of C:  10.0\n",
      "Cross-validation accuracy score estimate:  0.8483850931677018\n"
     ]
    }
   ],
   "source": [
    "c_values = [0.001,0.01,0.1,1.0,10.0,100.0]\n",
    "\n",
    "acc_scores_rbf = []\n",
    "for c in c_values:\n",
    "    \n",
    "    clf = svm.SVC(C=c, kernel = 'rbf')\n",
    "    scores = cross_val_score(clf, X_train, y_train, cv=10)\n",
    "    m = scores.mean()\n",
    "    acc_scores_rbf.append(m)\n",
    "    \n",
    "index_max = max(range(len(acc_scores_rbf)), key=acc_scores_rbf.__getitem__) # get the index of hyperparameter with max accuracy \n",
    "    \n",
    "plt.plot(c_values, acc_scores_rbf)\n",
    "plt.show()\n",
    "h, s = c_values[index_max], max(acc_scores_rbf)\n",
    "print(\"Choice of C: \", h)\n",
    "print(\"Cross-validation accuracy score estimate: \", s)"
   ]
  },
  {
   "cell_type": "code",
   "execution_count": 58,
   "metadata": {},
   "outputs": [
    {
     "data": {
      "text/plain": [
       "0.9871244635193133"
      ]
     },
     "execution_count": 58,
     "metadata": {},
     "output_type": "execute_result"
    }
   ],
   "source": [
    "clf = svm.SVC(C=1, kernel = 'rbf')\n",
    "clf.fit(X_train, y_train)\n",
    "y_pred = clf.predict(X_train)\n",
    "metrics.accuracy_score(y_train, y_pred)"
   ]
  },
  {
   "cell_type": "code",
   "execution_count": 59,
   "metadata": {},
   "outputs": [
    {
     "data": {
      "text/plain": [
       "0.84"
      ]
     },
     "execution_count": 59,
     "metadata": {},
     "output_type": "execute_result"
    }
   ],
   "source": [
    "clf = svm.SVC(C=10, kernel = 'rbf')\n",
    "clf.fit(X_train, y_train)\n",
    "y_pred = clf.predict(X_test)\n",
    "metrics.accuracy_score(y_test, y_pred)"
   ]
  },
  {
   "cell_type": "code",
   "execution_count": 53,
   "metadata": {},
   "outputs": [
    {
     "data": {
      "image/png": "[encoded data removed]",
      "text/plain": [
       "<Figure size 432x288 with 1 Axes>"
      ]
     },
     "metadata": {
      "needs_background": "light"
     },
     "output_type": "display_data"
    },
    {
     "name": "stdout",
     "output_type": "stream",
     "text": [
      "Choice of C:  10.0\n",
      "Cross-validation accuracy score estimate:  0.6952929085303187\n"
     ]
    }
   ],
   "source": [
    "c_values = [0.001,0.01,0.1,1.0,10.0,100.0]\n",
    "\n",
    "acc_scores_poly = []\n",
    "for c in c_values:\n",
    "    \n",
    "    clf = svm.SVC(C=c, kernel = 'poly')\n",
    "    scores = cross_val_score(clf, X_train, y_train, cv=5)\n",
    "    m = scores.mean()\n",
    "    acc_scores_poly.append(m)\n",
    "    \n",
    "index_max = max(range(len(acc_scores_poly)), key=acc_scores_poly.__getitem__) # get the index of hyperparameter with max accuracy \n",
    "    \n",
    "plt.plot(c_values, acc_scores_poly)\n",
    "plt.show()\n",
    "h, s = c_values[index_max], max(acc_scores_poly)\n",
    "print(\"Choice of C: \", h)\n",
    "print(\"Cross-validation accuracy score estimate: \", s)"
   ]
  },
  {
   "cell_type": "code",
   "execution_count": 54,
   "metadata": {},
   "outputs": [
    {
     "data": {
      "text/plain": [
       "1.0"
      ]
     },
     "execution_count": 54,
     "metadata": {},
     "output_type": "execute_result"
    }
   ],
   "source": [
    "clf = svm.SVC(C=10, kernel = 'poly')\n",
    "clf.fit(X_train, y_train)\n",
    "y_pred = clf.predict(X_train)\n",
    "metrics.accuracy_score(y_train, y_pred)"
   ]
  },
  {
   "cell_type": "code",
   "execution_count": 55,
   "metadata": {},
   "outputs": [
    {
     "data": {
      "text/plain": [
       "0.7266666666666667"
      ]
     },
     "execution_count": 55,
     "metadata": {},
     "output_type": "execute_result"
    }
   ],
   "source": [
    "clf = svm.SVC(C=10, kernel = 'poly')\n",
    "clf.fit(X_train, y_train)\n",
    "y_pred = clf.predict(X_test)\n",
    "metrics.accuracy_score(y_test, y_pred)"
   ]
  },
  {
   "cell_type": "code",
   "execution_count": 31,
   "metadata": {},
   "outputs": [
    {
     "data": {
      "image/png": "[encoded data removed]",
      "text/plain": [
       "<Figure size 432x288 with 1 Axes>"
      ]
     },
     "metadata": {
      "needs_background": "light"
     },
     "output_type": "display_data"
    },
    {
     "name": "stdout",
     "output_type": "stream",
     "text": [
      "Choice of C:  0.001\n",
      "Cross-validation accuracy score estimate:  0.7452723535457348\n"
     ]
    }
   ],
   "source": [
    "c_values = [0.00001,0.0001,0.001,0.01,0.1,1]\n",
    "\n",
    "acc_scores_linear = []\n",
    "for c in c_values:\n",
    "    \n",
    "    clf = svm.SVC(C=c, kernel = 'linear')\n",
    "    scores = cross_val_score(clf, X_train, y_train, cv=5)\n",
    "    m = scores.mean()\n",
    "    acc_scores_linear.append(m)\n",
    "    \n",
    "index_max = max(range(len(acc_scores_linear)), key=acc_scores_linear.__getitem__) # get the index of hyperparameter with max accuracy \n",
    "    \n",
    "plt.plot(c_values, acc_scores_linear)\n",
    "plt.show()\n",
    "h, s = c_values[index_max], max(acc_scores_linear)\n",
    "print(\"Choice of C: \", h)\n",
    "print(\"Cross-validation accuracy score estimate: \", s)"
   ]
  },
  {
   "cell_type": "code",
   "execution_count": 56,
   "metadata": {},
   "outputs": [
    {
     "data": {
      "text/plain": [
       "0.9599427753934192"
      ]
     },
     "execution_count": 56,
     "metadata": {},
     "output_type": "execute_result"
    }
   ],
   "source": [
    "clf = svm.SVC(C=0.001, kernel = 'linear')\n",
    "clf.fit(X_train, y_train)\n",
    "y_pred = clf.predict(X_train)\n",
    "metrics.accuracy_score(y_train, y_pred)"
   ]
  },
  {
   "cell_type": "code",
   "execution_count": null,
   "metadata": {},
   "outputs": [],
   "source": [
    "clf = svm.SVC(C=0.001, kernel = 'linear')\n",
    "clf.fit(X_train, y_train)\n",
    "y_pred = clf.predict(X_test)\n",
    "metrics.accuracy_score(y_test, y_pred)"
   ]
  }
 ],
 "metadata": {
  "colab": {
   "authorship_tag": "ABX9TyOcmHtlJiw0iBh08iZKWaxr",
   "collapsed_sections": [],
   "include_colab_link": true,
   "mount_file_id": "1nfoUnuQctT7dUUB7t4If4MLrhbcULL6t",
   "provenance": []
  },
  "kernelspec": {
   "display_name": "Python 3",
   "language": "python",
   "name": "python3"
  },
  "language_info": {
   "codemirror_mode": {
    "name": "ipython",
    "version": 3
   },
   "file_extension": ".py",
   "mimetype": "text/x-python",
   "name": "python",
   "nbconvert_exporter": "python",
   "pygments_lexer": "ipython3",
   "version": "3.8.3"
  }
 },
 "nbformat": 4,
 "nbformat_minor": 1
}
